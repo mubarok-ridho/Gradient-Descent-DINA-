{
  "nbformat": 4,
  "nbformat_minor": 0,
  "metadata": {
    "colab": {
      "provenance": [],
      "mount_file_id": "1_ttJmcxuWfnsU2oQWLqF6hrDmmPITye_",
      "authorship_tag": "ABX9TyOaAKy5lGV98Piq5kKY8e+k",
      "include_colab_link": true
    },
    "kernelspec": {
      "name": "python3",
      "display_name": "Python 3"
    },
    "language_info": {
      "name": "python"
    }
  },
  "cells": [
    {
      "cell_type": "markdown",
      "metadata": {
        "id": "view-in-github",
        "colab_type": "text"
      },
      "source": [
        "<a href=\"https://colab.research.google.com/github/mubarok-ridho/Gradient-Descent-DINA-/blob/main/GD_DINA%2BPOMDP.ipynb\" target=\"_parent\"><img src=\"https://colab.research.google.com/assets/colab-badge.svg\" alt=\"Open In Colab\"/></a>"
      ]
    },
    {
      "cell_type": "code",
      "source": [
        "# Import class DINA\n",
        "import sys\n",
        "sys.path.append('/content/drive/MyDrive/Ridho/EduCDM')\n",
        "from EduCDM.GD.DINA import DINA"
      ],
      "metadata": {
        "id": "F8c3CF8xperG"
      },
      "execution_count": null,
      "outputs": []
    },
    {
      "cell_type": "code",
      "source": [
        "# Build Q-matrix (KaNCD style) — robust parsing version\n",
        "import os, ast\n",
        "import numpy as np\n",
        "import pandas as pd\n",
        "from sklearn.preprocessing import LabelEncoder\n",
        "from sklearn.preprocessing import MultiLabelBinarizer\n",
        "import joblib\n",
        "\n",
        "DATA_CSV = \"/content/drive/MyDrive/Ridho/Required_data/preprocessed_skillbuilder_new.csv\"\n",
        "OUT_Q = \"/content/drive/MyDrive/Ridho/Required_data/Newest_Q.npy\"\n",
        "OUT_SKILLS = \"/content/drive/MyDrive/Ridho/Required_data/Newest_Q_skills.npy\"\n",
        "OUT_ITEM_ENCODER = \"/content/drive/MyDrive/Ridho/Required_data/item_encoder.joblib\"\n",
        "\n",
        "os.makedirs(os.path.dirname(OUT_Q), exist_ok=True)\n",
        "\n",
        "# df = pd.read_csv(DATA_CSV, low_memory=False)\n",
        "# print(\"Loaded:\", DATA_CSV, \"shape:\", df.shape)\n",
        "df = pd.read_csv(DATA_CSV, low_memory=False, encoding=\"latin1\")\n",
        "print(\"Loaded:\", DATA_CSV, \"shape:\", df.shape)\n",
        "\n",
        "\n",
        "# detect skill column candidates (priority)\n",
        "candidates = ['skill_list', 'skill_id', 'knowledge_code', 'skill_ids', 'skills', 'skill']\n",
        "skill_col = None\n",
        "for c in candidates:\n",
        "    if c in df.columns:\n",
        "        skill_col = c\n",
        "        break\n",
        "\n",
        "if skill_col is None:\n",
        "    raise ValueError(\"Kolom skill tidak ditemukan. Pastikan CSV punya salah satu: \"\n",
        "                     + \", \".join(candidates))\n",
        "\n",
        "print(\"Detected skill column:\", skill_col)\n",
        "\n",
        "# ensure problem_id column exists; try common alternatives\n",
        "if 'problem_id' not in df.columns and 'problem' in df.columns:\n",
        "    df = df.rename(columns={'problem':'problem_id'})\n",
        "if 'problem_id' not in df.columns:\n",
        "    raise ValueError(\"Kolom 'problem_id' tidak ada di CSV. Mohon sesuaikan nama kolom.\")\n",
        "\n",
        "# helper to convert many formats -> list of strings\n",
        "def to_skill_list(x):\n",
        "    # handle NaN\n",
        "    if pd.isna(x):\n",
        "        return []\n",
        "    # if already list\n",
        "    if isinstance(x, list):\n",
        "        return [str(s) for s in x]\n",
        "    s = str(x).strip()\n",
        "    # try literal_eval to parse \"[1,2]\" or \"('a','b')\"\n",
        "    try:\n",
        "        val = ast.literal_eval(s)\n",
        "        if isinstance(val, (list, tuple, set)):\n",
        "            return [str(v) for v in val]\n",
        "    except Exception:\n",
        "        pass\n",
        "    # if contains underscores (like \"12_34_56\")\n",
        "    if '_' in s:\n",
        "        parts = [p.strip() for p in s.split('_') if p.strip()!='']\n",
        "        if parts:\n",
        "            return parts\n",
        "    # if comma-separated\n",
        "    if ',' in s:\n",
        "        parts = [p.strip() for p in s.split(',') if p.strip()!='']\n",
        "        if parts:\n",
        "            return parts\n",
        "    # if whitespace separated\n",
        "    if ' ' in s:\n",
        "        parts = [p.strip() for p in s.split() if p.strip()!='']\n",
        "        if parts:\n",
        "            return parts\n",
        "    # fallback: single value (empty -> [])\n",
        "    return [s] if s != '' else []\n",
        "\n",
        "# build a canonical 'skill_list' column\n",
        "df['skill_list'] = df[skill_col].apply(to_skill_list).astype(object)\n",
        "\n",
        "# encode problem_id -> item_id (0..n-1)\n",
        "item_enc = LabelEncoder()\n",
        "df['problem_id'] = df['problem_id'].astype(str)  # be safe\n",
        "df['item_id'] = item_enc.fit_transform(df['problem_id'])\n",
        "n_items = df['item_id'].nunique()\n",
        "print(\"Unique items (encoded):\", n_items)\n",
        "\n",
        "# Build mapping: item_id -> set of skills across all rows for that item\n",
        "item_skill_map = df.groupby('item_id')['skill_list'].apply(\n",
        "    lambda lists: list(set([s for sub in lists for s in (sub if isinstance(sub, list) else [])]))\n",
        ").to_dict()\n",
        "\n",
        "# Fit MultiLabelBinarizer on the item_skill_map values (list of skill-lists)\n",
        "mlb = MultiLabelBinarizer()\n",
        "mlb.fit(list(item_skill_map.values()))\n",
        "skill_classes = list(mlb.classes_)\n",
        "n_skills = len(skill_classes)\n",
        "print(\"Detected skills:\", n_skills)\n",
        "\n",
        "# Build Q-matrix (n_items x n_skills)\n",
        "Q_matrix = np.zeros((n_items, n_skills), dtype=np.int8)\n",
        "for item_idx, skill_list in item_skill_map.items():\n",
        "    if len(skill_list) == 0:\n",
        "        continue\n",
        "    Q_matrix[item_idx] = mlb.transform([skill_list])[0]\n",
        "\n",
        "# sanity checks\n",
        "zero_rows = np.where(Q_matrix.sum(axis=1) == 0)[0]\n",
        "print(\"Q-matrix shape:\", Q_matrix.shape)\n",
        "print(\"Items without any skill tags (count):\", len(zero_rows))\n",
        "if len(zero_rows) > 0:\n",
        "    print(\"Example items without skills (up to 10):\", zero_rows[:10])\n",
        "\n",
        "# save Q and helper artifacts\n",
        "np.save(OUT_Q, Q_matrix)\n",
        "np.save(OUT_SKILLS, np.array(skill_classes, dtype=object))\n",
        "joblib.dump(item_enc, OUT_ITEM_ENCODER)\n",
        "\n",
        "print(f\"✅ Saved Newest_Q -> {OUT_Q}\")\n",
        "print(f\"✅ Saved skill classes -> {OUT_SKILLS}\")\n",
        "print(f\"✅ Saved item encoder -> {OUT_ITEM_ENCODER}\")"
      ],
      "metadata": {
        "colab": {
          "base_uri": "https://localhost:8080/"
        },
        "id": "hw8ma9eCq4qD",
        "outputId": "e3f67c7a-1d30-4bf6-b96a-d445f8191b6b"
      },
      "execution_count": null,
      "outputs": [
        {
          "output_type": "stream",
          "name": "stdout",
          "text": [
            "Loaded: /content/drive/MyDrive/Ridho/Required_data/preprocessed_skillbuilder_new.csv shape: (340727, 35)\n",
            "Detected skill column: skill_id\n",
            "Unique items (encoded): 26642\n",
            "Detected skills: 125\n",
            "Q-matrix shape: (26642, 125)\n",
            "Items without any skill tags (count): 8921\n",
            "Example items without skills (up to 10): [ 1  2  3  4  5  6  7  8  9 10]\n",
            "✅ Saved Newest_Q -> /content/drive/MyDrive/Ridho/Required_data/Newest_Q.npy\n",
            "✅ Saved skill classes -> /content/drive/MyDrive/Ridho/Required_data/Newest_Q_skills.npy\n",
            "✅ Saved item encoder -> /content/drive/MyDrive/Ridho/Required_data/item_encoder.joblib\n"
          ]
        }
      ]
    },
    {
      "cell_type": "code",
      "source": [
        "mask = Q_matrix.sum(axis=1) > 0\n",
        "valid_item_ids = np.where(mask)[0]\n",
        "print(\"Items with skills:\", len(valid_item_ids))\n",
        "\n",
        "# Filter df agar hanya ambil item dengan skill mapping\n",
        "df = df[df[\"item_id\"].isin(valid_item_ids)].reset_index(drop=True)\n",
        "\n",
        "# Q_matrix yang dipakai\n",
        "Q_matrix = Q_matrix[valid_item_ids]"
      ],
      "metadata": {
        "colab": {
          "base_uri": "https://localhost:8080/"
        },
        "id": "RzSUY5xhrWgx",
        "outputId": "c5d6a75c-c4e6-4bb4-df06-88a5678649ea"
      },
      "execution_count": null,
      "outputs": [
        {
          "output_type": "stream",
          "name": "stdout",
          "text": [
            "Items with skills: 17721\n"
          ]
        }
      ]
    },
    {
      "cell_type": "code",
      "source": [
        "import pandas as pd\n",
        "import numpy as np\n",
        "from sklearn.preprocessing import LabelEncoder\n",
        "\n",
        "# === Load data ===\n",
        "data_path = \"/content/drive/MyDrive/Ridho/Required_data/preprocessed_skillbuilder_new.csv\"\n",
        "df = pd.read_csv(data_path, encoding=\"latin1\", low_memory=False)\n",
        "df = df[[\"user_id\", \"problem_id\", \"correct\"]].dropna()\n",
        "\n",
        "# encode user & item\n",
        "user_encoder = LabelEncoder()\n",
        "item_encoder = LabelEncoder()\n",
        "df[\"user_id\"] = user_encoder.fit_transform(df[\"user_id\"])\n",
        "df[\"item_id\"] = item_encoder.fit_transform(df[\"problem_id\"])\n",
        "\n",
        "n_students = df[\"user_id\"].nunique()\n",
        "n_items_total = df[\"item_id\"].nunique()\n",
        "print(f\"Students: {n_students}, Items (total): {n_items_total}, Interactions: {len(df)}\")\n",
        "\n",
        "# === Load Q-matrix (full, masih 26642 items) ===\n",
        "Q_full = np.load(\"/content/drive/MyDrive/Ridho/Required_data/Newest_Q.npy\")\n",
        "print(\"Q_full shape:\", Q_full.shape)\n",
        "\n",
        "# === Filter item valid (yang punya skill) ===\n",
        "mask = Q_full.sum(axis=1) > 0\n",
        "valid_item_ids = np.where(mask)[0]\n",
        "print(\"Items with skills:\", len(valid_item_ids))\n",
        "\n",
        "df = df[df[\"item_id\"].isin(valid_item_ids)].reset_index(drop=True)\n",
        "\n",
        "# === Re-encode item_id 0..n_items_valid-1 ===\n",
        "item_encoder2 = LabelEncoder()\n",
        "df[\"item_id\"] = item_encoder2.fit_transform(df[\"item_id\"])\n",
        "\n",
        "# mapping old->new\n",
        "old2new = dict(zip(item_encoder2.classes_, range(len(item_encoder2.classes_))))\n",
        "\n",
        "# === Reorder Q-matrix sesuai item_id baru ===\n",
        "Q_matrix = np.zeros((len(old2new), Q_full.shape[1]), dtype=np.int8)\n",
        "for old_id, new_id in old2new.items():\n",
        "    Q_matrix[new_id] = Q_full[old_id]\n",
        "\n",
        "n_students = df[\"user_id\"].nunique()\n",
        "n_items = df[\"item_id\"].nunique()\n",
        "n_skills = Q_matrix.shape[1]\n",
        "print(f\"✅ Students: {n_students}, Items (valid): {n_items}, Skills: {n_skills}, Interactions: {len(df)}\")\n",
        "print(\"Q_matrix shape:\", Q_matrix.shape)"
      ],
      "metadata": {
        "colab": {
          "base_uri": "https://localhost:8080/"
        },
        "id": "I-i5xqVStAmK",
        "outputId": "2c1a594f-3e70-43b1-cdc8-3d62f3e3aab7"
      },
      "execution_count": null,
      "outputs": [
        {
          "output_type": "stream",
          "name": "stdout",
          "text": [
            "Students: 4213, Items (total): 26642, Interactions: 340727\n",
            "Q_full shape: (26642, 125)\n",
            "Items with skills: 17721\n",
            "✅ Students: 4088, Items (valid): 17721, Skills: 125, Interactions: 199927\n",
            "Q_matrix shape: (17721, 125)\n"
          ]
        }
      ]
    },
    {
      "cell_type": "code",
      "source": [
        "import os, torch, numpy as np, pandas as pd\n",
        "from torch.utils.data import Dataset, DataLoader\n",
        "from sklearn.model_selection import GroupKFold\n",
        "from sklearn.preprocessing import LabelEncoder, MultiLabelBinarizer\n",
        "from sklearn.metrics import roc_auc_score, accuracy_score\n",
        "import matplotlib.pyplot as plt\n",
        "from tqdm import tqdm\n",
        "\n",
        "# === Config ===\n",
        "DATA_CSV = \"/content/drive/MyDrive/Ridho/Required_data/preprocessed_skillbuilder_new.csv\"\n",
        "SAVE_DIR = \"/content/drive/MyDrive/Ridho/GDDINA\"\n",
        "CKPT_DIR = os.path.join(SAVE_DIR, \"checkpoints\")\n",
        "os.makedirs(CKPT_DIR, exist_ok=True)\n",
        "\n",
        "BATCH_SIZE = 64\n",
        "EPOCHS = 20\n",
        "LR = 0.002\n",
        "N_SPLITS = 5\n",
        "device = \"cuda\" if torch.cuda.is_available() else \"cpu\"\n",
        "print(\"Device:\", device)\n",
        "\n",
        "# === Step 1: Load data ===\n",
        "df = pd.read_csv(DATA_CSV, encoding=\"latin1\", low_memory=False)\n",
        "print(\"Loaded:\", df.shape)\n",
        "\n",
        "# pastikan kolom penting ada\n",
        "assert \"user_id\" in df.columns and \"problem_id\" in df.columns and \"correct\" in df.columns\n",
        "\n",
        "# === Step 2: Build Q-matrix ===\n",
        "import ast\n",
        "\n",
        "def parse_skills(x):\n",
        "    if pd.isna(x): return []\n",
        "    try:\n",
        "        val = ast.literal_eval(str(x))\n",
        "        if isinstance(val, (list, tuple, set)):\n",
        "            return [str(v) for v in val]\n",
        "    except: pass\n",
        "    return [str(x)]\n",
        "\n",
        "skill_col = \"skill_id\" if \"skill_id\" in df.columns else \"skill\"\n",
        "df[\"skill_list\"] = df[skill_col].apply(parse_skills)\n",
        "\n",
        "item_enc_old = LabelEncoder()\n",
        "df[\"item_id_old\"] = item_enc_old.fit_transform(df[\"problem_id\"].astype(str))\n",
        "\n",
        "item_skill_map = df.groupby(\"item_id_old\")[\"skill_list\"].apply(\n",
        "    lambda lst: list(set([s for sub in lst for s in sub]))\n",
        ").to_dict()\n",
        "\n",
        "mlb = MultiLabelBinarizer()\n",
        "mlb.fit(list(item_skill_map.values()))\n",
        "n_skills = len(mlb.classes_)\n",
        "print(\"Detected skills:\", n_skills)\n",
        "\n",
        "Q_full = np.zeros((len(item_skill_map), n_skills), dtype=np.int8)\n",
        "for item_idx, skills in item_skill_map.items():\n",
        "    if len(skills) > 0:\n",
        "        Q_full[item_idx] = mlb.transform([skills])[0]\n",
        "\n",
        "print(\"Q_full shape:\", Q_full.shape)\n",
        "\n",
        "# === Step 3: Filter valid items (with skills) ===\n",
        "mask = Q_full.sum(axis=1) > 0\n",
        "valid_old_ids = np.where(mask)[0]\n",
        "df = df[df[\"item_id_old\"].isin(valid_old_ids)].reset_index(drop=True)\n",
        "\n",
        "# === Step 4: Re-encode item_id baru sinkron dengan Q_matrix ===\n",
        "item_encoder = LabelEncoder()\n",
        "df[\"item_id\"] = item_encoder.fit_transform(df[\"item_id_old\"])\n",
        "old_ids = item_encoder.classes_.astype(int)\n",
        "Q_matrix = Q_full[old_ids]\n",
        "\n",
        "# === Step 5: Encode user_id ===\n",
        "user_encoder = LabelEncoder()\n",
        "df[\"user_id\"] = user_encoder.fit_transform(df[\"user_id\"].astype(str))\n",
        "\n",
        "# summary\n",
        "n_students = df[\"user_id\"].nunique()\n",
        "n_items = Q_matrix.shape[0]\n",
        "print(f\"Students: {n_students}, Items: {n_items}, Skills: {n_skills}, Interactions: {len(df)}\")\n",
        "print(\"Q_matrix shape:\", Q_matrix.shape)\n",
        "\n",
        "# === Step 6: Dataset ===\n",
        "class GDDINADataset(Dataset):\n",
        "    def __init__(self, df, Q_matrix):\n",
        "        self.user_ids = df[\"user_id\"].values\n",
        "        self.item_ids = df[\"item_id\"].values\n",
        "        self.labels = df[\"correct\"].astype(\"float32\").values\n",
        "        self.Q = Q_matrix\n",
        "    def __len__(self): return len(self.user_ids)\n",
        "    def __getitem__(self, idx):\n",
        "        u = torch.tensor(int(self.user_ids[idx]), dtype=torch.long)\n",
        "        i = torch.tensor(int(self.item_ids[idx]), dtype=torch.long)\n",
        "        y = torch.tensor(self.labels[idx], dtype=torch.float32)\n",
        "        k = torch.tensor(self.Q[i], dtype=torch.float32)\n",
        "        return u, i, k, y\n",
        "\n",
        "# === Step 7: Training 5-Fold ===\n",
        "from EduCDM.GD.DINA import DINA\n",
        "\n",
        "kf = GroupKFold(n_splits=N_SPLITS)\n",
        "loss_histories, auc_folds, acc_folds = [], [], []\n",
        "\n",
        "for fold, (train_idx, val_idx) in enumerate(kf.split(df, groups=df[\"user_id\"])):\n",
        "    print(f\"\\n===== Fold {fold+1} =====\")\n",
        "    train_df, val_df = df.iloc[train_idx].reset_index(drop=True), df.iloc[val_idx].reset_index(drop=True)\n",
        "    train_loader = DataLoader(GDDINADataset(train_df, Q_matrix), batch_size=BATCH_SIZE, shuffle=True)\n",
        "    val_loader = DataLoader(GDDINADataset(val_df, Q_matrix), batch_size=BATCH_SIZE, shuffle=False)\n",
        "\n",
        "    model = DINA(user_num=n_students, item_num=n_items, hidden_dim=n_skills, ste=False)\n",
        "    model.dina_net.to(device)\n",
        "    optimizer = torch.optim.Adam(model.dina_net.parameters(), lr=LR)\n",
        "    loss_fn = torch.nn.BCELoss()\n",
        "\n",
        "    best_auc, best_acc, best_state = 0.0, 0.0, None\n",
        "    fold_losses = []\n",
        "\n",
        "    for epoch in range(EPOCHS):\n",
        "        model.dina_net.train()\n",
        "        epoch_losses = []\n",
        "        for u,i,k,y in train_loader:\n",
        "            u,i,k,y = u.to(device), i.to(device), k.to(device), y.to(device)\n",
        "            preds = model.dina_net(u,i,k)\n",
        "            loss = loss_fn(preds, y)\n",
        "            optimizer.zero_grad(); loss.backward(); optimizer.step()\n",
        "            epoch_losses.append(loss.item())\n",
        "        avg_loss = np.mean(epoch_losses)\n",
        "        fold_losses.append(avg_loss)\n",
        "        auc, acc = model.eval(val_loader, device=device)\n",
        "        print(f\"[Epoch {epoch+1}] Loss={avg_loss:.4f}, AUC={auc:.4f}, Acc={acc:.4f}\")\n",
        "        if auc > best_auc:\n",
        "            best_auc, best_acc = auc, acc\n",
        "            best_state = {k:v.cpu() for k,v in model.dina_net.state_dict().items()}\n",
        "\n",
        "    # save best fold\n",
        "    ckpt_path = os.path.join(CKPT_DIR, f\"gddina_fold{fold+1}.pt\")\n",
        "    torch.save(best_state, ckpt_path)\n",
        "    print(f\"✅ Fold {fold+1} saved to {ckpt_path}\")\n",
        "\n",
        "    loss_histories.append(fold_losses)\n",
        "    auc_folds.append(best_auc)\n",
        "    acc_folds.append(best_acc)\n",
        "\n",
        "# === Summary & Visualisasi ===\n",
        "print(\"\\n=== 5-Fold CV Summary ===\")\n",
        "print(f\"AUC: {np.mean(auc_folds):.4f} ± {np.std(auc_folds, ddof=1):.4f}\")\n",
        "print(f\"Acc: {np.mean(acc_folds):.4f} ± {np.std(acc_folds, ddof=1):.4f}\")\n",
        "\n",
        "plt.figure(figsize=(8,5))\n",
        "for i, losses in enumerate(loss_histories):\n",
        "    plt.plot(range(1, len(losses)+1), losses, label=f\"Fold {i+1}\")\n",
        "plt.title(\"GD-DINA Loss History\"); plt.xlabel(\"Epoch\"); plt.ylabel(\"Loss\"); plt.legend(); plt.show()\n",
        "\n",
        "plt.bar([f\"Fold {i+1}\" for i in range(N_SPLITS)], acc_folds, color=\"skyblue\")\n",
        "plt.title(\"Accuracy Across Folds\"); plt.ylim(0,1); plt.show()\n",
        "\n",
        "plt.bar([f\"Fold {i+1}\" for i in range(N_SPLITS)], auc_folds, color=\"salmon\")\n",
        "plt.title(\"AUC Across Folds\"); plt.ylim(0,1); plt.show()"
      ],
      "metadata": {
        "colab": {
          "base_uri": "https://localhost:8080/",
          "height": 1000
        },
        "id": "4MhWB3Eiu9zp",
        "outputId": "bf2ee695-e7e1-42d2-b08f-e3ccd5d01cd8"
      },
      "execution_count": null,
      "outputs": [
        {
          "output_type": "stream",
          "name": "stdout",
          "text": [
            "Device: cpu\n",
            "Loaded: (340727, 35)\n",
            "Detected skills: 150\n",
            "Q_full shape: (26642, 150)\n",
            "Students: 4158, Items: 17721, Skills: 150, Interactions: 278433\n",
            "Q_matrix shape: (17721, 150)\n",
            "\n",
            "===== Fold 1 =====\n"
          ]
        },
        {
          "output_type": "stream",
          "name": "stderr",
          "text": [
            "evaluating: 100%|██████████| 871/871 [00:02<00:00, 389.67it/s]\n"
          ]
        },
        {
          "output_type": "stream",
          "name": "stdout",
          "text": [
            "[Epoch 1] Loss=0.6950, AUC=0.5218, Acc=0.5013\n"
          ]
        },
        {
          "output_type": "stream",
          "name": "stderr",
          "text": [
            "evaluating: 100%|██████████| 871/871 [00:02<00:00, 302.43it/s]\n"
          ]
        },
        {
          "output_type": "stream",
          "name": "stdout",
          "text": [
            "[Epoch 2] Loss=0.6745, AUC=0.5371, Acc=0.5013\n"
          ]
        },
        {
          "output_type": "stream",
          "name": "stderr",
          "text": [
            "evaluating: 100%|██████████| 871/871 [00:02<00:00, 391.13it/s]\n"
          ]
        },
        {
          "output_type": "stream",
          "name": "stdout",
          "text": [
            "[Epoch 3] Loss=0.6567, AUC=0.5495, Acc=0.5013\n"
          ]
        },
        {
          "output_type": "stream",
          "name": "stderr",
          "text": [
            "evaluating: 100%|██████████| 871/871 [00:02<00:00, 409.41it/s]\n"
          ]
        },
        {
          "output_type": "stream",
          "name": "stdout",
          "text": [
            "[Epoch 4] Loss=0.6427, AUC=0.5592, Acc=0.5013\n"
          ]
        },
        {
          "output_type": "stream",
          "name": "stderr",
          "text": [
            "evaluating: 100%|██████████| 871/871 [00:02<00:00, 405.72it/s]\n"
          ]
        },
        {
          "output_type": "stream",
          "name": "stdout",
          "text": [
            "[Epoch 5] Loss=0.6300, AUC=0.5665, Acc=0.5013\n"
          ]
        },
        {
          "output_type": "stream",
          "name": "stderr",
          "text": [
            "evaluating: 100%|██████████| 871/871 [00:02<00:00, 323.30it/s]\n"
          ]
        },
        {
          "output_type": "stream",
          "name": "stdout",
          "text": [
            "[Epoch 6] Loss=0.6203, AUC=0.5720, Acc=0.5013\n"
          ]
        },
        {
          "output_type": "stream",
          "name": "stderr",
          "text": [
            "evaluating: 100%|██████████| 871/871 [00:02<00:00, 398.12it/s]\n"
          ]
        },
        {
          "output_type": "stream",
          "name": "stdout",
          "text": [
            "[Epoch 7] Loss=0.6122, AUC=0.5761, Acc=0.5013\n"
          ]
        },
        {
          "output_type": "stream",
          "name": "stderr",
          "text": [
            "evaluating: 100%|██████████| 871/871 [00:02<00:00, 391.50it/s]\n"
          ]
        },
        {
          "output_type": "stream",
          "name": "stdout",
          "text": [
            "[Epoch 8] Loss=0.6056, AUC=0.5793, Acc=0.5013\n"
          ]
        },
        {
          "output_type": "stream",
          "name": "stderr",
          "text": [
            "evaluating: 100%|██████████| 871/871 [00:03<00:00, 265.53it/s]\n"
          ]
        },
        {
          "output_type": "stream",
          "name": "stdout",
          "text": [
            "[Epoch 9] Loss=0.6007, AUC=0.5818, Acc=0.5013\n"
          ]
        },
        {
          "output_type": "stream",
          "name": "stderr",
          "text": [
            "evaluating: 100%|██████████| 871/871 [00:02<00:00, 402.98it/s]\n"
          ]
        },
        {
          "output_type": "stream",
          "name": "stdout",
          "text": [
            "[Epoch 10] Loss=0.5961, AUC=0.5838, Acc=0.5013\n"
          ]
        },
        {
          "output_type": "stream",
          "name": "stderr",
          "text": [
            "evaluating: 100%|██████████| 871/871 [00:02<00:00, 401.87it/s]\n"
          ]
        },
        {
          "output_type": "stream",
          "name": "stdout",
          "text": [
            "[Epoch 11] Loss=0.5923, AUC=0.5855, Acc=0.5013\n"
          ]
        },
        {
          "output_type": "stream",
          "name": "stderr",
          "text": [
            "evaluating: 100%|██████████| 871/871 [00:02<00:00, 294.70it/s]\n"
          ]
        },
        {
          "output_type": "stream",
          "name": "stdout",
          "text": [
            "[Epoch 12] Loss=0.5893, AUC=0.5869, Acc=0.5013\n"
          ]
        },
        {
          "output_type": "stream",
          "name": "stderr",
          "text": [
            "evaluating: 100%|██████████| 871/871 [00:02<00:00, 406.88it/s]\n"
          ]
        },
        {
          "output_type": "stream",
          "name": "stdout",
          "text": [
            "[Epoch 13] Loss=0.5862, AUC=0.5880, Acc=0.5013\n"
          ]
        },
        {
          "output_type": "stream",
          "name": "stderr",
          "text": [
            "evaluating: 100%|██████████| 871/871 [00:02<00:00, 399.47it/s]\n"
          ]
        },
        {
          "output_type": "stream",
          "name": "stdout",
          "text": [
            "[Epoch 14] Loss=0.5847, AUC=0.5889, Acc=0.5013\n"
          ]
        },
        {
          "output_type": "stream",
          "name": "stderr",
          "text": [
            "evaluating: 100%|██████████| 871/871 [00:02<00:00, 401.60it/s]\n"
          ]
        },
        {
          "output_type": "stream",
          "name": "stdout",
          "text": [
            "[Epoch 15] Loss=0.5818, AUC=0.5898, Acc=0.5013\n"
          ]
        },
        {
          "output_type": "stream",
          "name": "stderr",
          "text": [
            "evaluating: 100%|██████████| 871/871 [00:02<00:00, 323.61it/s]\n"
          ]
        },
        {
          "output_type": "stream",
          "name": "stdout",
          "text": [
            "[Epoch 16] Loss=0.5812, AUC=0.5905, Acc=0.5013\n"
          ]
        },
        {
          "output_type": "stream",
          "name": "stderr",
          "text": [
            "evaluating: 100%|██████████| 871/871 [00:02<00:00, 396.30it/s]\n"
          ]
        },
        {
          "output_type": "stream",
          "name": "stdout",
          "text": [
            "[Epoch 17] Loss=0.5787, AUC=0.5911, Acc=0.5013\n"
          ]
        },
        {
          "output_type": "stream",
          "name": "stderr",
          "text": [
            "evaluating: 100%|██████████| 871/871 [00:02<00:00, 398.51it/s]\n"
          ]
        },
        {
          "output_type": "stream",
          "name": "stdout",
          "text": [
            "[Epoch 18] Loss=0.5785, AUC=0.5916, Acc=0.5013\n"
          ]
        },
        {
          "output_type": "stream",
          "name": "stderr",
          "text": [
            "evaluating: 100%|██████████| 871/871 [00:03<00:00, 265.59it/s]\n"
          ]
        },
        {
          "output_type": "stream",
          "name": "stdout",
          "text": [
            "[Epoch 19] Loss=0.5766, AUC=0.5920, Acc=0.5013\n"
          ]
        },
        {
          "output_type": "stream",
          "name": "stderr",
          "text": [
            "evaluating: 100%|██████████| 871/871 [00:02<00:00, 392.38it/s]\n"
          ]
        },
        {
          "output_type": "stream",
          "name": "stdout",
          "text": [
            "[Epoch 20] Loss=0.5760, AUC=0.5924, Acc=0.5013\n",
            "✅ Fold 1 saved to /content/drive/MyDrive/Ridho/GDDINA/checkpoints/gddina_fold1.pt\n",
            "\n",
            "===== Fold 2 =====\n"
          ]
        },
        {
          "output_type": "stream",
          "name": "stderr",
          "text": [
            "evaluating: 100%|██████████| 871/871 [00:02<00:00, 396.18it/s]\n"
          ]
        },
        {
          "output_type": "stream",
          "name": "stdout",
          "text": [
            "[Epoch 1] Loss=0.6950, AUC=0.5173, Acc=0.4932\n"
          ]
        },
        {
          "output_type": "stream",
          "name": "stderr",
          "text": [
            "evaluating: 100%|██████████| 871/871 [00:03<00:00, 262.90it/s]\n"
          ]
        },
        {
          "output_type": "stream",
          "name": "stdout",
          "text": [
            "[Epoch 2] Loss=0.6745, AUC=0.5321, Acc=0.4932\n"
          ]
        },
        {
          "output_type": "stream",
          "name": "stderr",
          "text": [
            "evaluating: 100%|██████████| 871/871 [00:02<00:00, 394.22it/s]\n"
          ]
        },
        {
          "output_type": "stream",
          "name": "stdout",
          "text": [
            "[Epoch 3] Loss=0.6566, AUC=0.5440, Acc=0.4932\n"
          ]
        },
        {
          "output_type": "stream",
          "name": "stderr",
          "text": [
            "evaluating: 100%|██████████| 871/871 [00:02<00:00, 400.63it/s]\n"
          ]
        },
        {
          "output_type": "stream",
          "name": "stdout",
          "text": [
            "[Epoch 4] Loss=0.6425, AUC=0.5531, Acc=0.4932\n"
          ]
        },
        {
          "output_type": "stream",
          "name": "stderr",
          "text": [
            "evaluating: 100%|██████████| 871/871 [00:02<00:00, 308.16it/s]\n"
          ]
        },
        {
          "output_type": "stream",
          "name": "stdout",
          "text": [
            "[Epoch 5] Loss=0.6301, AUC=0.5600, Acc=0.4932\n"
          ]
        },
        {
          "output_type": "stream",
          "name": "stderr",
          "text": [
            "evaluating: 100%|██████████| 871/871 [00:02<00:00, 398.58it/s]\n"
          ]
        },
        {
          "output_type": "stream",
          "name": "stdout",
          "text": [
            "[Epoch 6] Loss=0.6201, AUC=0.5652, Acc=0.4932\n"
          ]
        },
        {
          "output_type": "stream",
          "name": "stderr",
          "text": [
            "evaluating: 100%|██████████| 871/871 [00:02<00:00, 402.64it/s]\n"
          ]
        },
        {
          "output_type": "stream",
          "name": "stdout",
          "text": [
            "[Epoch 7] Loss=0.6125, AUC=0.5691, Acc=0.4932\n"
          ]
        },
        {
          "output_type": "stream",
          "name": "stderr",
          "text": [
            "evaluating: 100%|██████████| 871/871 [00:02<00:00, 370.36it/s]\n"
          ]
        },
        {
          "output_type": "stream",
          "name": "stdout",
          "text": [
            "[Epoch 8] Loss=0.6056, AUC=0.5722, Acc=0.4932\n"
          ]
        },
        {
          "output_type": "stream",
          "name": "stderr",
          "text": [
            "evaluating: 100%|██████████| 871/871 [00:02<00:00, 322.88it/s]\n"
          ]
        },
        {
          "output_type": "stream",
          "name": "stdout",
          "text": [
            "[Epoch 9] Loss=0.6006, AUC=0.5746, Acc=0.4932\n"
          ]
        },
        {
          "output_type": "stream",
          "name": "stderr",
          "text": [
            "evaluating: 100%|██████████| 871/871 [00:02<00:00, 398.50it/s]\n"
          ]
        },
        {
          "output_type": "stream",
          "name": "stdout",
          "text": [
            "[Epoch 10] Loss=0.5954, AUC=0.5765, Acc=0.4932\n"
          ]
        },
        {
          "output_type": "stream",
          "name": "stderr",
          "text": [
            "evaluating: 100%|██████████| 871/871 [00:02<00:00, 381.39it/s]\n"
          ]
        },
        {
          "output_type": "stream",
          "name": "stdout",
          "text": [
            "[Epoch 11] Loss=0.5923, AUC=0.5781, Acc=0.4932\n"
          ]
        },
        {
          "output_type": "stream",
          "name": "stderr",
          "text": [
            "evaluating: 100%|██████████| 871/871 [00:03<00:00, 260.81it/s]\n"
          ]
        },
        {
          "output_type": "stream",
          "name": "stdout",
          "text": [
            "[Epoch 12] Loss=0.5893, AUC=0.5794, Acc=0.4932\n"
          ]
        },
        {
          "output_type": "stream",
          "name": "stderr",
          "text": [
            "evaluating: 100%|██████████| 871/871 [00:02<00:00, 395.33it/s]\n"
          ]
        },
        {
          "output_type": "stream",
          "name": "stdout",
          "text": [
            "[Epoch 13] Loss=0.5860, AUC=0.5805, Acc=0.4932\n"
          ]
        },
        {
          "output_type": "stream",
          "name": "stderr",
          "text": [
            "evaluating: 100%|██████████| 871/871 [00:02<00:00, 398.32it/s]\n"
          ]
        },
        {
          "output_type": "stream",
          "name": "stdout",
          "text": [
            "[Epoch 14] Loss=0.5845, AUC=0.5814, Acc=0.4932\n"
          ]
        },
        {
          "output_type": "stream",
          "name": "stderr",
          "text": [
            "evaluating: 100%|██████████| 871/871 [00:02<00:00, 324.82it/s]\n"
          ]
        },
        {
          "output_type": "stream",
          "name": "stdout",
          "text": [
            "[Epoch 15] Loss=0.5815, AUC=0.5822, Acc=0.4932\n"
          ]
        },
        {
          "output_type": "stream",
          "name": "stderr",
          "text": [
            "evaluating: 100%|██████████| 871/871 [00:02<00:00, 395.26it/s]\n"
          ]
        },
        {
          "output_type": "stream",
          "name": "stdout",
          "text": [
            "[Epoch 16] Loss=0.5810, AUC=0.5828, Acc=0.4932\n"
          ]
        },
        {
          "output_type": "stream",
          "name": "stderr",
          "text": [
            "evaluating: 100%|██████████| 871/871 [00:02<00:00, 392.25it/s]\n"
          ]
        },
        {
          "output_type": "stream",
          "name": "stdout",
          "text": [
            "[Epoch 17] Loss=0.5786, AUC=0.5834, Acc=0.4932\n"
          ]
        },
        {
          "output_type": "stream",
          "name": "stderr",
          "text": [
            "evaluating: 100%|██████████| 871/871 [00:02<00:00, 395.61it/s]\n"
          ]
        },
        {
          "output_type": "stream",
          "name": "stdout",
          "text": [
            "[Epoch 18] Loss=0.5780, AUC=0.5839, Acc=0.4932\n"
          ]
        },
        {
          "output_type": "stream",
          "name": "stderr",
          "text": [
            "evaluating: 100%|██████████| 871/871 [00:03<00:00, 280.45it/s]\n"
          ]
        },
        {
          "output_type": "stream",
          "name": "stdout",
          "text": [
            "[Epoch 19] Loss=0.5763, AUC=0.5844, Acc=0.4932\n"
          ]
        },
        {
          "output_type": "stream",
          "name": "stderr",
          "text": [
            "evaluating: 100%|██████████| 871/871 [00:02<00:00, 388.85it/s]\n"
          ]
        },
        {
          "output_type": "stream",
          "name": "stdout",
          "text": [
            "[Epoch 20] Loss=0.5761, AUC=0.5848, Acc=0.4932\n",
            "✅ Fold 2 saved to /content/drive/MyDrive/Ridho/GDDINA/checkpoints/gddina_fold2.pt\n",
            "\n",
            "===== Fold 3 =====\n"
          ]
        },
        {
          "output_type": "stream",
          "name": "stderr",
          "text": [
            "evaluating: 100%|██████████| 871/871 [00:02<00:00, 392.99it/s]\n"
          ]
        },
        {
          "output_type": "stream",
          "name": "stdout",
          "text": [
            "[Epoch 1] Loss=0.6950, AUC=0.5154, Acc=0.4939\n"
          ]
        },
        {
          "output_type": "stream",
          "name": "stderr",
          "text": [
            "evaluating: 100%|██████████| 871/871 [00:03<00:00, 269.81it/s]\n"
          ]
        },
        {
          "output_type": "stream",
          "name": "stdout",
          "text": [
            "[Epoch 2] Loss=0.6744, AUC=0.5296, Acc=0.4939\n"
          ]
        },
        {
          "output_type": "stream",
          "name": "stderr",
          "text": [
            "evaluating: 100%|██████████| 871/871 [00:02<00:00, 398.91it/s]\n"
          ]
        },
        {
          "output_type": "stream",
          "name": "stdout",
          "text": [
            "[Epoch 3] Loss=0.6559, AUC=0.5412, Acc=0.4939\n"
          ]
        },
        {
          "output_type": "stream",
          "name": "stderr",
          "text": [
            "evaluating: 100%|██████████| 871/871 [00:02<00:00, 401.37it/s]\n"
          ]
        },
        {
          "output_type": "stream",
          "name": "stdout",
          "text": [
            "[Epoch 4] Loss=0.6419, AUC=0.5502, Acc=0.4939\n"
          ]
        },
        {
          "output_type": "stream",
          "name": "stderr",
          "text": [
            "evaluating: 100%|██████████| 871/871 [00:03<00:00, 281.51it/s]\n"
          ]
        },
        {
          "output_type": "stream",
          "name": "stdout",
          "text": [
            "[Epoch 5] Loss=0.6299, AUC=0.5569, Acc=0.4939\n"
          ]
        },
        {
          "output_type": "stream",
          "name": "stderr",
          "text": [
            "evaluating: 100%|██████████| 871/871 [00:02<00:00, 399.33it/s]\n"
          ]
        },
        {
          "output_type": "stream",
          "name": "stdout",
          "text": [
            "[Epoch 6] Loss=0.6202, AUC=0.5621, Acc=0.4939\n"
          ]
        },
        {
          "output_type": "stream",
          "name": "stderr",
          "text": [
            "evaluating: 100%|██████████| 871/871 [00:02<00:00, 396.09it/s]\n"
          ]
        },
        {
          "output_type": "stream",
          "name": "stdout",
          "text": [
            "[Epoch 7] Loss=0.6126, AUC=0.5660, Acc=0.4939\n"
          ]
        },
        {
          "output_type": "stream",
          "name": "stderr",
          "text": [
            "evaluating: 100%|██████████| 871/871 [00:02<00:00, 330.37it/s]\n"
          ]
        },
        {
          "output_type": "stream",
          "name": "stdout",
          "text": [
            "[Epoch 8] Loss=0.6054, AUC=0.5691, Acc=0.4939\n"
          ]
        },
        {
          "output_type": "stream",
          "name": "stderr",
          "text": [
            "evaluating: 100%|██████████| 871/871 [00:02<00:00, 407.39it/s]\n"
          ]
        },
        {
          "output_type": "stream",
          "name": "stdout",
          "text": [
            "[Epoch 9] Loss=0.6007, AUC=0.5716, Acc=0.4939\n"
          ]
        },
        {
          "output_type": "stream",
          "name": "stderr",
          "text": [
            "evaluating: 100%|██████████| 871/871 [00:02<00:00, 403.86it/s]\n"
          ]
        },
        {
          "output_type": "stream",
          "name": "stdout",
          "text": [
            "[Epoch 10] Loss=0.5961, AUC=0.5736, Acc=0.4939\n"
          ]
        },
        {
          "output_type": "stream",
          "name": "stderr",
          "text": [
            "evaluating: 100%|██████████| 871/871 [00:02<00:00, 334.38it/s]\n"
          ]
        },
        {
          "output_type": "stream",
          "name": "stdout",
          "text": [
            "[Epoch 11] Loss=0.5926, AUC=0.5752, Acc=0.4939\n"
          ]
        },
        {
          "output_type": "stream",
          "name": "stderr",
          "text": [
            "evaluating: 100%|██████████| 871/871 [00:02<00:00, 392.49it/s]\n"
          ]
        },
        {
          "output_type": "stream",
          "name": "stdout",
          "text": [
            "[Epoch 12] Loss=0.5891, AUC=0.5765, Acc=0.4939\n"
          ]
        },
        {
          "output_type": "stream",
          "name": "stderr",
          "text": [
            "evaluating: 100%|██████████| 871/871 [00:02<00:00, 402.78it/s]\n"
          ]
        },
        {
          "output_type": "stream",
          "name": "stdout",
          "text": [
            "[Epoch 13] Loss=0.5862, AUC=0.5777, Acc=0.4939\n"
          ]
        },
        {
          "output_type": "stream",
          "name": "stderr",
          "text": [
            "evaluating: 100%|██████████| 871/871 [00:02<00:00, 378.85it/s]\n"
          ]
        },
        {
          "output_type": "stream",
          "name": "stdout",
          "text": [
            "[Epoch 14] Loss=0.5848, AUC=0.5787, Acc=0.4939\n"
          ]
        },
        {
          "output_type": "stream",
          "name": "stderr",
          "text": [
            "evaluating: 100%|██████████| 871/871 [00:02<00:00, 326.49it/s]\n"
          ]
        },
        {
          "output_type": "stream",
          "name": "stdout",
          "text": [
            "[Epoch 15] Loss=0.5816, AUC=0.5795, Acc=0.4939\n"
          ]
        },
        {
          "output_type": "stream",
          "name": "stderr",
          "text": [
            "evaluating: 100%|██████████| 871/871 [00:02<00:00, 408.00it/s]\n"
          ]
        },
        {
          "output_type": "stream",
          "name": "stdout",
          "text": [
            "[Epoch 16] Loss=0.5808, AUC=0.5802, Acc=0.4939\n"
          ]
        },
        {
          "output_type": "stream",
          "name": "stderr",
          "text": [
            "evaluating: 100%|██████████| 871/871 [00:02<00:00, 396.83it/s]\n"
          ]
        },
        {
          "output_type": "stream",
          "name": "stdout",
          "text": [
            "[Epoch 17] Loss=0.5785, AUC=0.5808, Acc=0.4939\n"
          ]
        },
        {
          "output_type": "stream",
          "name": "stderr",
          "text": [
            "evaluating: 100%|██████████| 871/871 [00:02<00:00, 291.30it/s]\n"
          ]
        },
        {
          "output_type": "stream",
          "name": "stdout",
          "text": [
            "[Epoch 18] Loss=0.5787, AUC=0.5814, Acc=0.4939\n"
          ]
        },
        {
          "output_type": "stream",
          "name": "stderr",
          "text": [
            "evaluating: 100%|██████████| 871/871 [00:02<00:00, 401.64it/s]\n"
          ]
        },
        {
          "output_type": "stream",
          "name": "stdout",
          "text": [
            "[Epoch 19] Loss=0.5766, AUC=0.5819, Acc=0.4939\n"
          ]
        },
        {
          "output_type": "stream",
          "name": "stderr",
          "text": [
            "evaluating: 100%|██████████| 871/871 [00:02<00:00, 404.39it/s]\n"
          ]
        },
        {
          "output_type": "stream",
          "name": "stdout",
          "text": [
            "[Epoch 20] Loss=0.5764, AUC=0.5823, Acc=0.4939\n",
            "✅ Fold 3 saved to /content/drive/MyDrive/Ridho/GDDINA/checkpoints/gddina_fold3.pt\n",
            "\n",
            "===== Fold 4 =====\n"
          ]
        },
        {
          "output_type": "stream",
          "name": "stderr",
          "text": [
            "evaluating: 100%|██████████| 871/871 [00:02<00:00, 305.96it/s]\n"
          ]
        },
        {
          "output_type": "stream",
          "name": "stdout",
          "text": [
            "[Epoch 1] Loss=0.6943, AUC=0.5134, Acc=0.4893\n"
          ]
        },
        {
          "output_type": "stream",
          "name": "stderr",
          "text": [
            "evaluating: 100%|██████████| 871/871 [00:02<00:00, 392.89it/s]\n"
          ]
        },
        {
          "output_type": "stream",
          "name": "stdout",
          "text": [
            "[Epoch 2] Loss=0.6741, AUC=0.5288, Acc=0.4893\n"
          ]
        },
        {
          "output_type": "stream",
          "name": "stderr",
          "text": [
            "evaluating: 100%|██████████| 871/871 [00:02<00:00, 402.85it/s]\n"
          ]
        },
        {
          "output_type": "stream",
          "name": "stdout",
          "text": [
            "[Epoch 3] Loss=0.6558, AUC=0.5412, Acc=0.4893\n"
          ]
        },
        {
          "output_type": "stream",
          "name": "stderr",
          "text": [
            "evaluating: 100%|██████████| 871/871 [00:03<00:00, 265.54it/s]\n"
          ]
        },
        {
          "output_type": "stream",
          "name": "stdout",
          "text": [
            "[Epoch 4] Loss=0.6421, AUC=0.5509, Acc=0.4893\n"
          ]
        },
        {
          "output_type": "stream",
          "name": "stderr",
          "text": [
            "evaluating: 100%|██████████| 871/871 [00:02<00:00, 396.63it/s]\n"
          ]
        },
        {
          "output_type": "stream",
          "name": "stdout",
          "text": [
            "[Epoch 5] Loss=0.6299, AUC=0.5581, Acc=0.4893\n"
          ]
        },
        {
          "output_type": "stream",
          "name": "stderr",
          "text": [
            "evaluating: 100%|██████████| 871/871 [00:02<00:00, 396.57it/s]\n"
          ]
        },
        {
          "output_type": "stream",
          "name": "stdout",
          "text": [
            "[Epoch 6] Loss=0.6202, AUC=0.5637, Acc=0.4893\n"
          ]
        },
        {
          "output_type": "stream",
          "name": "stderr",
          "text": [
            "evaluating: 100%|██████████| 871/871 [00:03<00:00, 273.08it/s]\n"
          ]
        },
        {
          "output_type": "stream",
          "name": "stdout",
          "text": [
            "[Epoch 7] Loss=0.6122, AUC=0.5679, Acc=0.4893\n"
          ]
        },
        {
          "output_type": "stream",
          "name": "stderr",
          "text": [
            "evaluating: 100%|██████████| 871/871 [00:02<00:00, 404.91it/s]\n"
          ]
        },
        {
          "output_type": "stream",
          "name": "stdout",
          "text": [
            "[Epoch 8] Loss=0.6058, AUC=0.5711, Acc=0.4893\n"
          ]
        },
        {
          "output_type": "stream",
          "name": "stderr",
          "text": [
            "evaluating: 100%|██████████| 871/871 [00:02<00:00, 402.29it/s]\n"
          ]
        },
        {
          "output_type": "stream",
          "name": "stdout",
          "text": [
            "[Epoch 9] Loss=0.6009, AUC=0.5737, Acc=0.4893\n"
          ]
        },
        {
          "output_type": "stream",
          "name": "stderr",
          "text": [
            "evaluating: 100%|██████████| 871/871 [00:03<00:00, 282.50it/s]\n"
          ]
        },
        {
          "output_type": "stream",
          "name": "stdout",
          "text": [
            "[Epoch 10] Loss=0.5958, AUC=0.5757, Acc=0.4893\n"
          ]
        },
        {
          "output_type": "stream",
          "name": "stderr",
          "text": [
            "evaluating: 100%|██████████| 871/871 [00:02<00:00, 399.42it/s]\n"
          ]
        },
        {
          "output_type": "stream",
          "name": "stdout",
          "text": [
            "[Epoch 11] Loss=0.5922, AUC=0.5774, Acc=0.4893\n"
          ]
        },
        {
          "output_type": "stream",
          "name": "stderr",
          "text": [
            "evaluating: 100%|██████████| 871/871 [00:02<00:00, 397.28it/s]\n"
          ]
        },
        {
          "output_type": "stream",
          "name": "stdout",
          "text": [
            "[Epoch 12] Loss=0.5896, AUC=0.5788, Acc=0.4893\n"
          ]
        },
        {
          "output_type": "stream",
          "name": "stderr",
          "text": [
            "evaluating: 100%|██████████| 871/871 [00:02<00:00, 295.72it/s]\n"
          ]
        },
        {
          "output_type": "stream",
          "name": "stdout",
          "text": [
            "[Epoch 13] Loss=0.5861, AUC=0.5800, Acc=0.4893\n"
          ]
        },
        {
          "output_type": "stream",
          "name": "stderr",
          "text": [
            "evaluating: 100%|██████████| 871/871 [00:02<00:00, 403.62it/s]\n"
          ]
        },
        {
          "output_type": "stream",
          "name": "stdout",
          "text": [
            "[Epoch 14] Loss=0.5844, AUC=0.5810, Acc=0.4893\n"
          ]
        },
        {
          "output_type": "stream",
          "name": "stderr",
          "text": [
            "evaluating: 100%|██████████| 871/871 [00:02<00:00, 402.75it/s]\n"
          ]
        },
        {
          "output_type": "stream",
          "name": "stdout",
          "text": [
            "[Epoch 15] Loss=0.5817, AUC=0.5818, Acc=0.4893\n"
          ]
        },
        {
          "output_type": "stream",
          "name": "stderr",
          "text": [
            "evaluating: 100%|██████████| 871/871 [00:02<00:00, 314.54it/s]\n"
          ]
        },
        {
          "output_type": "stream",
          "name": "stdout",
          "text": [
            "[Epoch 16] Loss=0.5808, AUC=0.5825, Acc=0.4893\n"
          ]
        },
        {
          "output_type": "stream",
          "name": "stderr",
          "text": [
            "evaluating: 100%|██████████| 871/871 [00:02<00:00, 398.01it/s]\n"
          ]
        },
        {
          "output_type": "stream",
          "name": "stdout",
          "text": [
            "[Epoch 17] Loss=0.5781, AUC=0.5831, Acc=0.4893\n"
          ]
        },
        {
          "output_type": "stream",
          "name": "stderr",
          "text": [
            "evaluating: 100%|██████████| 871/871 [00:02<00:00, 402.58it/s]\n"
          ]
        },
        {
          "output_type": "stream",
          "name": "stdout",
          "text": [
            "[Epoch 18] Loss=0.5783, AUC=0.5836, Acc=0.4893\n"
          ]
        },
        {
          "output_type": "stream",
          "name": "stderr",
          "text": [
            "evaluating: 100%|██████████| 871/871 [00:02<00:00, 355.78it/s]\n"
          ]
        },
        {
          "output_type": "stream",
          "name": "stdout",
          "text": [
            "[Epoch 19] Loss=0.5754, AUC=0.5841, Acc=0.4893\n"
          ]
        },
        {
          "output_type": "stream",
          "name": "stderr",
          "text": [
            "evaluating: 100%|██████████| 871/871 [00:02<00:00, 372.49it/s]\n"
          ]
        },
        {
          "output_type": "stream",
          "name": "stdout",
          "text": [
            "[Epoch 20] Loss=0.5762, AUC=0.5845, Acc=0.4893\n",
            "✅ Fold 4 saved to /content/drive/MyDrive/Ridho/GDDINA/checkpoints/gddina_fold4.pt\n",
            "\n",
            "===== Fold 5 =====\n"
          ]
        },
        {
          "output_type": "stream",
          "name": "stderr",
          "text": [
            "evaluating: 100%|██████████| 871/871 [00:02<00:00, 398.18it/s]\n"
          ]
        },
        {
          "output_type": "stream",
          "name": "stdout",
          "text": [
            "[Epoch 1] Loss=0.6948, AUC=0.5197, Acc=0.4988\n"
          ]
        },
        {
          "output_type": "stream",
          "name": "stderr",
          "text": [
            "evaluating: 100%|██████████| 871/871 [00:02<00:00, 339.90it/s]\n"
          ]
        },
        {
          "output_type": "stream",
          "name": "stdout",
          "text": [
            "[Epoch 2] Loss=0.6751, AUC=0.5360, Acc=0.4988\n"
          ]
        },
        {
          "output_type": "stream",
          "name": "stderr",
          "text": [
            "evaluating: 100%|██████████| 871/871 [00:02<00:00, 404.75it/s]\n"
          ]
        },
        {
          "output_type": "stream",
          "name": "stdout",
          "text": [
            "[Epoch 3] Loss=0.6565, AUC=0.5491, Acc=0.4988\n"
          ]
        },
        {
          "output_type": "stream",
          "name": "stderr",
          "text": [
            "evaluating: 100%|██████████| 871/871 [00:02<00:00, 402.29it/s]\n"
          ]
        },
        {
          "output_type": "stream",
          "name": "stdout",
          "text": [
            "[Epoch 4] Loss=0.6430, AUC=0.5590, Acc=0.4988\n"
          ]
        },
        {
          "output_type": "stream",
          "name": "stderr",
          "text": [
            "evaluating: 100%|██████████| 871/871 [00:02<00:00, 400.62it/s]\n"
          ]
        },
        {
          "output_type": "stream",
          "name": "stdout",
          "text": [
            "[Epoch 5] Loss=0.6309, AUC=0.5665, Acc=0.4988\n"
          ]
        },
        {
          "output_type": "stream",
          "name": "stderr",
          "text": [
            "evaluating: 100%|██████████| 871/871 [00:02<00:00, 326.47it/s]\n"
          ]
        },
        {
          "output_type": "stream",
          "name": "stdout",
          "text": [
            "[Epoch 6] Loss=0.6217, AUC=0.5721, Acc=0.4988\n"
          ]
        },
        {
          "output_type": "stream",
          "name": "stderr",
          "text": [
            "evaluating: 100%|██████████| 871/871 [00:02<00:00, 393.02it/s]\n"
          ]
        },
        {
          "output_type": "stream",
          "name": "stdout",
          "text": [
            "[Epoch 7] Loss=0.6135, AUC=0.5763, Acc=0.4988\n"
          ]
        },
        {
          "output_type": "stream",
          "name": "stderr",
          "text": [
            "evaluating: 100%|██████████| 871/871 [00:02<00:00, 401.00it/s]\n"
          ]
        },
        {
          "output_type": "stream",
          "name": "stdout",
          "text": [
            "[Epoch 8] Loss=0.6068, AUC=0.5796, Acc=0.4988\n"
          ]
        },
        {
          "output_type": "stream",
          "name": "stderr",
          "text": [
            "evaluating: 100%|██████████| 871/871 [00:03<00:00, 286.16it/s]\n"
          ]
        },
        {
          "output_type": "stream",
          "name": "stdout",
          "text": [
            "[Epoch 9] Loss=0.6021, AUC=0.5822, Acc=0.4988\n"
          ]
        },
        {
          "output_type": "stream",
          "name": "stderr",
          "text": [
            "evaluating: 100%|██████████| 871/871 [00:02<00:00, 400.88it/s]\n"
          ]
        },
        {
          "output_type": "stream",
          "name": "stdout",
          "text": [
            "[Epoch 10] Loss=0.5971, AUC=0.5842, Acc=0.4988\n"
          ]
        },
        {
          "output_type": "stream",
          "name": "stderr",
          "text": [
            "evaluating: 100%|██████████| 871/871 [00:02<00:00, 396.17it/s]\n"
          ]
        },
        {
          "output_type": "stream",
          "name": "stdout",
          "text": [
            "[Epoch 11] Loss=0.5934, AUC=0.5859, Acc=0.4988\n"
          ]
        },
        {
          "output_type": "stream",
          "name": "stderr",
          "text": [
            "evaluating: 100%|██████████| 871/871 [00:03<00:00, 268.71it/s]\n"
          ]
        },
        {
          "output_type": "stream",
          "name": "stdout",
          "text": [
            "[Epoch 12] Loss=0.5906, AUC=0.5873, Acc=0.4988\n"
          ]
        },
        {
          "output_type": "stream",
          "name": "stderr",
          "text": [
            "evaluating: 100%|██████████| 871/871 [00:02<00:00, 398.17it/s]\n"
          ]
        },
        {
          "output_type": "stream",
          "name": "stdout",
          "text": [
            "[Epoch 13] Loss=0.5876, AUC=0.5884, Acc=0.4988\n"
          ]
        },
        {
          "output_type": "stream",
          "name": "stderr",
          "text": [
            "evaluating: 100%|██████████| 871/871 [00:02<00:00, 401.86it/s]\n"
          ]
        },
        {
          "output_type": "stream",
          "name": "stdout",
          "text": [
            "[Epoch 14] Loss=0.5858, AUC=0.5893, Acc=0.4988\n"
          ]
        },
        {
          "output_type": "stream",
          "name": "stderr",
          "text": [
            "evaluating: 100%|██████████| 871/871 [00:03<00:00, 280.61it/s]\n"
          ]
        },
        {
          "output_type": "stream",
          "name": "stdout",
          "text": [
            "[Epoch 15] Loss=0.5831, AUC=0.5901, Acc=0.4988\n"
          ]
        },
        {
          "output_type": "stream",
          "name": "stderr",
          "text": [
            "evaluating: 100%|██████████| 871/871 [00:02<00:00, 394.34it/s]\n"
          ]
        },
        {
          "output_type": "stream",
          "name": "stdout",
          "text": [
            "[Epoch 16] Loss=0.5822, AUC=0.5908, Acc=0.4988\n"
          ]
        },
        {
          "output_type": "stream",
          "name": "stderr",
          "text": [
            "evaluating: 100%|██████████| 871/871 [00:02<00:00, 399.26it/s]\n"
          ]
        },
        {
          "output_type": "stream",
          "name": "stdout",
          "text": [
            "[Epoch 17] Loss=0.5795, AUC=0.5914, Acc=0.4988\n"
          ]
        },
        {
          "output_type": "stream",
          "name": "stderr",
          "text": [
            "evaluating: 100%|██████████| 871/871 [00:02<00:00, 313.75it/s]\n"
          ]
        },
        {
          "output_type": "stream",
          "name": "stdout",
          "text": [
            "[Epoch 18] Loss=0.5793, AUC=0.5919, Acc=0.4988\n"
          ]
        },
        {
          "output_type": "stream",
          "name": "stderr",
          "text": [
            "evaluating: 100%|██████████| 871/871 [00:02<00:00, 401.95it/s]\n"
          ]
        },
        {
          "output_type": "stream",
          "name": "stdout",
          "text": [
            "[Epoch 19] Loss=0.5769, AUC=0.5924, Acc=0.4988\n"
          ]
        },
        {
          "output_type": "stream",
          "name": "stderr",
          "text": [
            "evaluating: 100%|██████████| 871/871 [00:02<00:00, 384.27it/s]\n"
          ]
        },
        {
          "output_type": "stream",
          "name": "stdout",
          "text": [
            "[Epoch 20] Loss=0.5772, AUC=0.5928, Acc=0.4988\n",
            "✅ Fold 5 saved to /content/drive/MyDrive/Ridho/GDDINA/checkpoints/gddina_fold5.pt\n",
            "\n",
            "=== 5-Fold CV Summary ===\n",
            "AUC: 0.5874 ± 0.0049\n",
            "Acc: 0.4953 ± 0.0048\n"
          ]
        },
        {
          "output_type": "display_data",
          "data": {
            "text/plain": [
              "<Figure size 800x500 with 1 Axes>"
            ],
            "image/png": "[encoded data removed]"
          },
          "metadata": {}
        },
        {
          "output_type": "display_data",
          "data": {
            "text/plain": [
              "<Figure size 640x480 with 1 Axes>"
            ],
            "image/png": "[encoded data removed]"
          },
          "metadata": {}
        },
        {
          "output_type": "display_data",
          "data": {
            "text/plain": [
              "<Figure size 640x480 with 1 Axes>"
            ],
            "image/png": "[encoded data removed]"
          },
          "metadata": {}
        }
      ]
    },
    {
      "cell_type": "code",
      "source": [
        "import re\n",
        "import matplotlib.pyplot as plt\n",
        "import pandas as pd\n",
        "\n",
        "# ===========================================\n",
        "# MASUKKAN LOG GD-DINA DI SINI\n",
        "# ===========================================\n",
        "log_text = \"\"\"\n",
        "[Device: cpu\n",
        "Loaded: (340727, 35)\n",
        "Detected skills: 150\n",
        "Q_full shape: (26642, 150)\n",
        "Students: 4158, Items: 17721, Skills: 150, Interactions: 278433\n",
        "Q_matrix shape: (17721, 150)\n",
        "\n",
        "===== Fold 1 =====\n",
        "evaluating: 100%|██████████| 871/871 [00:02<00:00, 389.67it/s]\n",
        "[Epoch 1] Loss=0.6950, AUC=0.5218, Acc=0.5013\n",
        "evaluating: 100%|██████████| 871/871 [00:02<00:00, 302.43it/s]\n",
        "[Epoch 2] Loss=0.6745, AUC=0.5371, Acc=0.5013\n",
        "evaluating: 100%|██████████| 871/871 [00:02<00:00, 391.13it/s]\n",
        "[Epoch 3] Loss=0.6567, AUC=0.5495, Acc=0.5013\n",
        "evaluating: 100%|██████████| 871/871 [00:02<00:00, 409.41it/s]\n",
        "[Epoch 4] Loss=0.6427, AUC=0.5592, Acc=0.5013\n",
        "evaluating: 100%|██████████| 871/871 [00:02<00:00, 405.72it/s]\n",
        "[Epoch 5] Loss=0.6300, AUC=0.5665, Acc=0.5013\n",
        "evaluating: 100%|██████████| 871/871 [00:02<00:00, 323.30it/s]\n",
        "[Epoch 6] Loss=0.6203, AUC=0.5720, Acc=0.5013\n",
        "evaluating: 100%|██████████| 871/871 [00:02<00:00, 398.12it/s]\n",
        "[Epoch 7] Loss=0.6122, AUC=0.5761, Acc=0.5013\n",
        "evaluating: 100%|██████████| 871/871 [00:02<00:00, 391.50it/s]\n",
        "[Epoch 8] Loss=0.6056, AUC=0.5793, Acc=0.5013\n",
        "evaluating: 100%|██████████| 871/871 [00:03<00:00, 265.53it/s]\n",
        "[Epoch 9] Loss=0.6007, AUC=0.5818, Acc=0.5013\n",
        "evaluating: 100%|██████████| 871/871 [00:02<00:00, 402.98it/s]\n",
        "[Epoch 10] Loss=0.5961, AUC=0.5838, Acc=0.5013\n",
        "evaluating: 100%|██████████| 871/871 [00:02<00:00, 401.87it/s]\n",
        "[Epoch 11] Loss=0.5923, AUC=0.5855, Acc=0.5013\n",
        "evaluating: 100%|██████████| 871/871 [00:02<00:00, 294.70it/s]\n",
        "[Epoch 12] Loss=0.5893, AUC=0.5869, Acc=0.5013\n",
        "evaluating: 100%|██████████| 871/871 [00:02<00:00, 406.88it/s]\n",
        "[Epoch 13] Loss=0.5862, AUC=0.5880, Acc=0.5013\n",
        "evaluating: 100%|██████████| 871/871 [00:02<00:00, 399.47it/s]\n",
        "[Epoch 14] Loss=0.5847, AUC=0.5889, Acc=0.5013\n",
        "evaluating: 100%|██████████| 871/871 [00:02<00:00, 401.60it/s]\n",
        "[Epoch 15] Loss=0.5818, AUC=0.5898, Acc=0.5013\n",
        "evaluating: 100%|██████████| 871/871 [00:02<00:00, 323.61it/s]\n",
        "[Epoch 16] Loss=0.5812, AUC=0.5905, Acc=0.5013\n",
        "evaluating: 100%|██████████| 871/871 [00:02<00:00, 396.30it/s]\n",
        "[Epoch 17] Loss=0.5787, AUC=0.5911, Acc=0.5013\n",
        "evaluating: 100%|██████████| 871/871 [00:02<00:00, 398.51it/s]\n",
        "[Epoch 18] Loss=0.5785, AUC=0.5916, Acc=0.5013\n",
        "evaluating: 100%|██████████| 871/871 [00:03<00:00, 265.59it/s]\n",
        "[Epoch 19] Loss=0.5766, AUC=0.5920, Acc=0.5013\n",
        "evaluating: 100%|██████████| 871/871 [00:02<00:00, 392.38it/s]\n",
        "[Epoch 20] Loss=0.5760, AUC=0.5924, Acc=0.5013\n",
        "✅ Fold 1 saved to /content/drive/MyDrive/Ridho/GDDINA/checkpoints/gddina_fold1.pt\n",
        "\n",
        "===== Fold 2 =====\n",
        "evaluating: 100%|██████████| 871/871 [00:02<00:00, 396.18it/s]\n",
        "[Epoch 1] Loss=0.6950, AUC=0.5173, Acc=0.4932\n",
        "evaluating: 100%|██████████| 871/871 [00:03<00:00, 262.90it/s]\n",
        "[Epoch 2] Loss=0.6745, AUC=0.5321, Acc=0.4932\n",
        "evaluating: 100%|██████████| 871/871 [00:02<00:00, 394.22it/s]\n",
        "[Epoch 3] Loss=0.6566, AUC=0.5440, Acc=0.4932\n",
        "evaluating: 100%|██████████| 871/871 [00:02<00:00, 400.63it/s]\n",
        "[Epoch 4] Loss=0.6425, AUC=0.5531, Acc=0.4932\n",
        "evaluating: 100%|██████████| 871/871 [00:02<00:00, 308.16it/s]\n",
        "[Epoch 5] Loss=0.6301, AUC=0.5600, Acc=0.4932\n",
        "evaluating: 100%|██████████| 871/871 [00:02<00:00, 398.58it/s]\n",
        "[Epoch 6] Loss=0.6201, AUC=0.5652, Acc=0.4932\n",
        "evaluating: 100%|██████████| 871/871 [00:02<00:00, 402.64it/s]\n",
        "[Epoch 7] Loss=0.6125, AUC=0.5691, Acc=0.4932\n",
        "evaluating: 100%|██████████| 871/871 [00:02<00:00, 370.36it/s]\n",
        "[Epoch 8] Loss=0.6056, AUC=0.5722, Acc=0.4932\n",
        "evaluating: 100%|██████████| 871/871 [00:02<00:00, 322.88it/s]\n",
        "[Epoch 9] Loss=0.6006, AUC=0.5746, Acc=0.4932\n",
        "evaluating: 100%|██████████| 871/871 [00:02<00:00, 398.50it/s]\n",
        "[Epoch 10] Loss=0.5954, AUC=0.5765, Acc=0.4932\n",
        "evaluating: 100%|██████████| 871/871 [00:02<00:00, 381.39it/s]\n",
        "[Epoch 11] Loss=0.5923, AUC=0.5781, Acc=0.4932\n",
        "evaluating: 100%|██████████| 871/871 [00:03<00:00, 260.81it/s]\n",
        "[Epoch 12] Loss=0.5893, AUC=0.5794, Acc=0.4932\n",
        "evaluating: 100%|██████████| 871/871 [00:02<00:00, 395.33it/s]\n",
        "[Epoch 13] Loss=0.5860, AUC=0.5805, Acc=0.4932\n",
        "evaluating: 100%|██████████| 871/871 [00:02<00:00, 398.32it/s]\n",
        "[Epoch 14] Loss=0.5845, AUC=0.5814, Acc=0.4932\n",
        "evaluating: 100%|██████████| 871/871 [00:02<00:00, 324.82it/s]\n",
        "[Epoch 15] Loss=0.5815, AUC=0.5822, Acc=0.4932\n",
        "evaluating: 100%|██████████| 871/871 [00:02<00:00, 395.26it/s]\n",
        "[Epoch 16] Loss=0.5810, AUC=0.5828, Acc=0.4932\n",
        "evaluating: 100%|██████████| 871/871 [00:02<00:00, 392.25it/s]\n",
        "[Epoch 17] Loss=0.5786, AUC=0.5834, Acc=0.4932\n",
        "evaluating: 100%|██████████| 871/871 [00:02<00:00, 395.61it/s]\n",
        "[Epoch 18] Loss=0.5780, AUC=0.5839, Acc=0.4932\n",
        "evaluating: 100%|██████████| 871/871 [00:03<00:00, 280.45it/s]\n",
        "[Epoch 19] Loss=0.5763, AUC=0.5844, Acc=0.4932\n",
        "evaluating: 100%|██████████| 871/871 [00:02<00:00, 388.85it/s]\n",
        "[Epoch 20] Loss=0.5761, AUC=0.5848, Acc=0.4932\n",
        "✅ Fold 2 saved to /content/drive/MyDrive/Ridho/GDDINA/checkpoints/gddina_fold2.pt\n",
        "\n",
        "===== Fold 3 =====\n",
        "evaluating: 100%|██████████| 871/871 [00:02<00:00, 392.99it/s]\n",
        "[Epoch 1] Loss=0.6950, AUC=0.5154, Acc=0.4939\n",
        "evaluating: 100%|██████████| 871/871 [00:03<00:00, 269.81it/s]\n",
        "[Epoch 2] Loss=0.6744, AUC=0.5296, Acc=0.4939\n",
        "evaluating: 100%|██████████| 871/871 [00:02<00:00, 398.91it/s]\n",
        "[Epoch 3] Loss=0.6559, AUC=0.5412, Acc=0.4939\n",
        "evaluating: 100%|██████████| 871/871 [00:02<00:00, 401.37it/s]\n",
        "[Epoch 4] Loss=0.6419, AUC=0.5502, Acc=0.4939\n",
        "evaluating: 100%|██████████| 871/871 [00:03<00:00, 281.51it/s]\n",
        "[Epoch 5] Loss=0.6299, AUC=0.5569, Acc=0.4939\n",
        "evaluating: 100%|██████████| 871/871 [00:02<00:00, 399.33it/s]\n",
        "[Epoch 6] Loss=0.6202, AUC=0.5621, Acc=0.4939\n",
        "evaluating: 100%|██████████| 871/871 [00:02<00:00, 396.09it/s]\n",
        "[Epoch 7] Loss=0.6126, AUC=0.5660, Acc=0.4939\n",
        "evaluating: 100%|██████████| 871/871 [00:02<00:00, 330.37it/s]\n",
        "[Epoch 8] Loss=0.6054, AUC=0.5691, Acc=0.4939\n",
        "evaluating: 100%|██████████| 871/871 [00:02<00:00, 407.39it/s]\n",
        "[Epoch 9] Loss=0.6007, AUC=0.5716, Acc=0.4939\n",
        "evaluating: 100%|██████████| 871/871 [00:02<00:00, 403.86it/s]\n",
        "[Epoch 10] Loss=0.5961, AUC=0.5736, Acc=0.4939\n",
        "evaluating: 100%|██████████| 871/871 [00:02<00:00, 334.38it/s]\n",
        "[Epoch 11] Loss=0.5926, AUC=0.5752, Acc=0.4939\n",
        "evaluating: 100%|██████████| 871/871 [00:02<00:00, 392.49it/s]\n",
        "[Epoch 12] Loss=0.5891, AUC=0.5765, Acc=0.4939\n",
        "evaluating: 100%|██████████| 871/871 [00:02<00:00, 402.78it/s]\n",
        "[Epoch 13] Loss=0.5862, AUC=0.5777, Acc=0.4939\n",
        "evaluating: 100%|██████████| 871/871 [00:02<00:00, 378.85it/s]\n",
        "[Epoch 14] Loss=0.5848, AUC=0.5787, Acc=0.4939\n",
        "evaluating: 100%|██████████| 871/871 [00:02<00:00, 326.49it/s]\n",
        "[Epoch 15] Loss=0.5816, AUC=0.5795, Acc=0.4939\n",
        "evaluating: 100%|██████████| 871/871 [00:02<00:00, 408.00it/s]\n",
        "[Epoch 16] Loss=0.5808, AUC=0.5802, Acc=0.4939\n",
        "evaluating: 100%|██████████| 871/871 [00:02<00:00, 396.83it/s]\n",
        "[Epoch 17] Loss=0.5785, AUC=0.5808, Acc=0.4939\n",
        "evaluating: 100%|██████████| 871/871 [00:02<00:00, 291.30it/s]\n",
        "[Epoch 18] Loss=0.5787, AUC=0.5814, Acc=0.4939\n",
        "evaluating: 100%|██████████| 871/871 [00:02<00:00, 401.64it/s]\n",
        "[Epoch 19] Loss=0.5766, AUC=0.5819, Acc=0.4939\n",
        "evaluating: 100%|██████████| 871/871 [00:02<00:00, 404.39it/s]\n",
        "[Epoch 20] Loss=0.5764, AUC=0.5823, Acc=0.4939\n",
        "✅ Fold 3 saved to /content/drive/MyDrive/Ridho/GDDINA/checkpoints/gddina_fold3.pt\n",
        "\n",
        "===== Fold 4 =====\n",
        "evaluating: 100%|██████████| 871/871 [00:02<00:00, 305.96it/s]\n",
        "[Epoch 1] Loss=0.6943, AUC=0.5134, Acc=0.4893\n",
        "evaluating: 100%|██████████| 871/871 [00:02<00:00, 392.89it/s]\n",
        "[Epoch 2] Loss=0.6741, AUC=0.5288, Acc=0.4893\n",
        "evaluating: 100%|██████████| 871/871 [00:02<00:00, 402.85it/s]\n",
        "[Epoch 3] Loss=0.6558, AUC=0.5412, Acc=0.4893\n",
        "evaluating: 100%|██████████| 871/871 [00:03<00:00, 265.54it/s]\n",
        "[Epoch 4] Loss=0.6421, AUC=0.5509, Acc=0.4893\n",
        "evaluating: 100%|██████████| 871/871 [00:02<00:00, 396.63it/s]\n",
        "[Epoch 5] Loss=0.6299, AUC=0.5581, Acc=0.4893\n",
        "evaluating: 100%|██████████| 871/871 [00:02<00:00, 396.57it/s]\n",
        "[Epoch 6] Loss=0.6202, AUC=0.5637, Acc=0.4893\n",
        "evaluating: 100%|██████████| 871/871 [00:03<00:00, 273.08it/s]\n",
        "[Epoch 7] Loss=0.6122, AUC=0.5679, Acc=0.4893\n",
        "evaluating: 100%|██████████| 871/871 [00:02<00:00, 404.91it/s]\n",
        "[Epoch 8] Loss=0.6058, AUC=0.5711, Acc=0.4893\n",
        "evaluating: 100%|██████████| 871/871 [00:02<00:00, 402.29it/s]\n",
        "[Epoch 9] Loss=0.6009, AUC=0.5737, Acc=0.4893\n",
        "evaluating: 100%|██████████| 871/871 [00:03<00:00, 282.50it/s]\n",
        "[Epoch 10] Loss=0.5958, AUC=0.5757, Acc=0.4893\n",
        "evaluating: 100%|██████████| 871/871 [00:02<00:00, 399.42it/s]\n",
        "[Epoch 11] Loss=0.5922, AUC=0.5774, Acc=0.4893\n",
        "evaluating: 100%|██████████| 871/871 [00:02<00:00, 397.28it/s]\n",
        "[Epoch 12] Loss=0.5896, AUC=0.5788, Acc=0.4893\n",
        "evaluating: 100%|██████████| 871/871 [00:02<00:00, 295.72it/s]\n",
        "[Epoch 13] Loss=0.5861, AUC=0.5800, Acc=0.4893\n",
        "evaluating: 100%|██████████| 871/871 [00:02<00:00, 403.62it/s]\n",
        "[Epoch 14] Loss=0.5844, AUC=0.5810, Acc=0.4893\n",
        "evaluating: 100%|██████████| 871/871 [00:02<00:00, 402.75it/s]\n",
        "[Epoch 15] Loss=0.5817, AUC=0.5818, Acc=0.4893\n",
        "evaluating: 100%|██████████| 871/871 [00:02<00:00, 314.54it/s]\n",
        "[Epoch 16] Loss=0.5808, AUC=0.5825, Acc=0.4893\n",
        "evaluating: 100%|██████████| 871/871 [00:02<00:00, 398.01it/s]\n",
        "[Epoch 17] Loss=0.5781, AUC=0.5831, Acc=0.4893\n",
        "evaluating: 100%|██████████| 871/871 [00:02<00:00, 402.58it/s]\n",
        "[Epoch 18] Loss=0.5783, AUC=0.5836, Acc=0.4893\n",
        "evaluating: 100%|██████████| 871/871 [00:02<00:00, 355.78it/s]\n",
        "[Epoch 19] Loss=0.5754, AUC=0.5841, Acc=0.4893\n",
        "evaluating: 100%|██████████| 871/871 [00:02<00:00, 372.49it/s]\n",
        "[Epoch 20] Loss=0.5762, AUC=0.5845, Acc=0.4893\n",
        "✅ Fold 4 saved to /content/drive/MyDrive/Ridho/GDDINA/checkpoints/gddina_fold4.pt\n",
        "\n",
        "===== Fold 5 =====\n",
        "evaluating: 100%|██████████| 871/871 [00:02<00:00, 398.18it/s]\n",
        "[Epoch 1] Loss=0.6948, AUC=0.5197, Acc=0.4988\n",
        "evaluating: 100%|██████████| 871/871 [00:02<00:00, 339.90it/s]\n",
        "[Epoch 2] Loss=0.6751, AUC=0.5360, Acc=0.4988\n",
        "evaluating: 100%|██████████| 871/871 [00:02<00:00, 404.75it/s]\n",
        "[Epoch 3] Loss=0.6565, AUC=0.5491, Acc=0.4988\n",
        "evaluating: 100%|██████████| 871/871 [00:02<00:00, 402.29it/s]\n",
        "[Epoch 4] Loss=0.6430, AUC=0.5590, Acc=0.4988\n",
        "evaluating: 100%|██████████| 871/871 [00:02<00:00, 400.62it/s]\n",
        "[Epoch 5] Loss=0.6309, AUC=0.5665, Acc=0.4988\n",
        "evaluating: 100%|██████████| 871/871 [00:02<00:00, 326.47it/s]\n",
        "[Epoch 6] Loss=0.6217, AUC=0.5721, Acc=0.4988\n",
        "evaluating: 100%|██████████| 871/871 [00:02<00:00, 393.02it/s]\n",
        "[Epoch 7] Loss=0.6135, AUC=0.5763, Acc=0.4988\n",
        "evaluating: 100%|██████████| 871/871 [00:02<00:00, 401.00it/s]\n",
        "[Epoch 8] Loss=0.6068, AUC=0.5796, Acc=0.4988\n",
        "evaluating: 100%|██████████| 871/871 [00:03<00:00, 286.16it/s]\n",
        "[Epoch 9] Loss=0.6021, AUC=0.5822, Acc=0.4988\n",
        "evaluating: 100%|██████████| 871/871 [00:02<00:00, 400.88it/s]\n",
        "[Epoch 10] Loss=0.5971, AUC=0.5842, Acc=0.4988\n",
        "evaluating: 100%|██████████| 871/871 [00:02<00:00, 396.17it/s]\n",
        "[Epoch 11] Loss=0.5934, AUC=0.5859, Acc=0.4988\n",
        "evaluating: 100%|██████████| 871/871 [00:03<00:00, 268.71it/s]\n",
        "[Epoch 12] Loss=0.5906, AUC=0.5873, Acc=0.4988\n",
        "evaluating: 100%|██████████| 871/871 [00:02<00:00, 398.17it/s]\n",
        "[Epoch 13] Loss=0.5876, AUC=0.5884, Acc=0.4988\n",
        "evaluating: 100%|██████████| 871/871 [00:02<00:00, 401.86it/s]\n",
        "[Epoch 14] Loss=0.5858, AUC=0.5893, Acc=0.4988\n",
        "evaluating: 100%|██████████| 871/871 [00:03<00:00, 280.61it/s]\n",
        "[Epoch 15] Loss=0.5831, AUC=0.5901, Acc=0.4988\n",
        "evaluating: 100%|██████████| 871/871 [00:02<00:00, 394.34it/s]\n",
        "[Epoch 16] Loss=0.5822, AUC=0.5908, Acc=0.4988\n",
        "evaluating: 100%|██████████| 871/871 [00:02<00:00, 399.26it/s]\n",
        "[Epoch 17] Loss=0.5795, AUC=0.5914, Acc=0.4988\n",
        "evaluating: 100%|██████████| 871/871 [00:02<00:00, 313.75it/s]\n",
        "[Epoch 18] Loss=0.5793, AUC=0.5919, Acc=0.4988\n",
        "evaluating: 100%|██████████| 871/871 [00:02<00:00, 401.95it/s]\n",
        "[Epoch 19] Loss=0.5769, AUC=0.5924, Acc=0.4988\n",
        "evaluating: 100%|██████████| 871/871 [00:02<00:00, 384.27it/s]\n",
        "[Epoch 20] Loss=0.5772, AUC=0.5928, Acc=0.4988\n",
        "✅ Fold 5 saved to /content/drive/MyDrive/Ridho/GDDINA/checkpoints/gddina_fold5.pt\n",
        "\n",
        "=== 5-Fold CV Summary ===\n",
        "AUC: 0.5874 ± 0.0049\n",
        "Acc: 0.4953 ± 0.0048\n",
        "\n",
        "\n",
        "]\n",
        "\"\"\"\n",
        "\n",
        "# ===========================================\n",
        "# PARSE DATA PER FOLD\n",
        "# ===========================================\n",
        "folds = re.split(r\"===== Fold \\d+ =====\", log_text)[1:]\n",
        "all_data = []\n",
        "\n",
        "for fold_idx, fold in enumerate(folds, start=1):\n",
        "    matches = re.findall(r\"\\[Epoch\\s+(\\d+)\\]\\s+Loss=([\\d\\.]+),\\s*AUC=([\\d\\.]+)\", fold)\n",
        "    if matches:\n",
        "        df = pd.DataFrame(matches, columns=[\"Epoch\", \"Loss\", \"AUC\"]).astype(float)\n",
        "        df[\"Fold\"] = f\"Fold {fold_idx}\"\n",
        "        all_data.append(df)\n",
        "    else:\n",
        "        print(f\"[Warning] Fold {fold_idx} tidak ditemukan data valid.\")\n",
        "\n",
        "if not all_data:\n",
        "    raise ValueError(\"⚠️ Tidak ada data yang bisa diparse. Cek format log_text!\")\n",
        "\n",
        "df_all = pd.concat(all_data, ignore_index=True)\n",
        "\n",
        "# ===========================================\n",
        "# VISUALISASI LOSS PER FOLD\n",
        "# ===========================================\n",
        "plt.figure(figsize=(8, 5))\n",
        "for fold_name, group in df_all.groupby(\"Fold\"):\n",
        "    plt.plot(group[\"Epoch\"], group[\"Loss\"], marker=\"o\", label=fold_name)\n",
        "\n",
        "plt.title(\"GD-DINA Loss History (5-Fold CV)\")\n",
        "plt.xlabel(\"Epoch\")\n",
        "plt.ylabel(\"Loss\")\n",
        "plt.legend(title=\"Fold\", loc=\"upper right\")\n",
        "plt.grid(True, linestyle=\"--\", alpha=0.6)\n",
        "plt.tight_layout()\n",
        "plt.show()\n"
      ],
      "metadata": {
        "colab": {
          "base_uri": "https://localhost:8080/",
          "height": 507
        },
        "id": "PwO9KEXliceV",
        "outputId": "909eb4d5-8dd7-4cfb-ab45-c9e50c6bf9cd"
      },
      "execution_count": null,
      "outputs": [
        {
          "output_type": "display_data",
          "data": {
            "text/plain": [
              "<Figure size 800x500 with 1 Axes>"
            ],
            "image/png": "[encoded data removed]"
          },
          "metadata": {}
        }
      ]
    },
    {
      "cell_type": "markdown",
      "source": [
        "# POMDP"
      ],
      "metadata": {
        "id": "BqNxacyMiMcx"
      }
    },
    {
      "cell_type": "code",
      "source": [
        "from EduCDM.GD.DINA import DINA\n",
        "\n",
        "# pilih salah satu fold (misal fold 1)\n",
        "fold_ckpt = \"/content/drive/MyDrive/Ridho/GDDINA/checkpoints/gddina_fold1.pt\"\n",
        "\n",
        "# inisialisasi ulang model dengan parameter sama\n",
        "model_gddina = DINA(user_num=n_students, item_num=n_items, hidden_dim=n_skills, ste=False)\n",
        "\n",
        "# load checkpoint\n",
        "model_gddina.dina_net.load_state_dict(torch.load(fold_ckpt, map_location=device))\n",
        "model_gddina.dina_net.to(device)\n",
        "model_gddina.dina_net.eval()   # ✅ ini yang benar\n",
        "\n",
        "print(\"✅ GD-DINA model loaded and set to eval mode\")"
      ],
      "metadata": {
        "colab": {
          "base_uri": "https://localhost:8080/"
        },
        "id": "9jEtjWhc8Op4",
        "outputId": "93d8800b-c777-48f9-8b1b-9bcec3f1a416"
      },
      "execution_count": null,
      "outputs": [
        {
          "output_type": "stream",
          "name": "stdout",
          "text": [
            "✅ GD-DINA model loaded and set to eval mode\n"
          ]
        }
      ]
    },
    {
      "cell_type": "code",
      "source": [
        "import torch\n",
        "import numpy as np\n",
        "\n",
        "class GDDINAEnv:\n",
        "    def __init__(self, model, Q_matrix, n_skills):\n",
        "        self.model = model\n",
        "        self.Q = Q_matrix\n",
        "        self.n_skills = n_skills\n",
        "        self.reset()\n",
        "\n",
        "    def reset(self):\n",
        "        # belief awal: semua skill sama rata (uniform prior)\n",
        "        self.belief = np.ones(self.n_skills) / self.n_skills\n",
        "        self.asked_items = set()\n",
        "        return self.belief\n",
        "\n",
        "    def step(self, item_id, correct):\n",
        "        \"\"\"\n",
        "        item_id: soal yang dipilih agent\n",
        "        correct: jawaban siswa (0/1)\n",
        "        \"\"\"\n",
        "        # update belief (naif: tambah bobot skill yg terlibat di soal)\n",
        "        skills = self.Q[item_id]\n",
        "        if correct == 1:\n",
        "            self.belief = self.belief + skills\n",
        "        else:\n",
        "            self.belief = self.belief - skills * 0.5  # penalti\n",
        "        self.belief = np.clip(self.belief, 1e-6, None)\n",
        "        self.belief /= self.belief.sum()\n",
        "        self.asked_items.add(item_id)\n",
        "        return self.belief"
      ],
      "metadata": {
        "id": "b1x9ul1XSklA"
      },
      "execution_count": null,
      "outputs": []
    },
    {
      "cell_type": "code",
      "source": [
        "class REINFORCEAgent:\n",
        "    def __init__(self, n_skills, n_items, lr=0.01, gamma=0.99):\n",
        "        self.n_skills = n_skills\n",
        "        self.n_items = n_items\n",
        "        self.gamma = gamma\n",
        "\n",
        "        self.policy = nn.Sequential(\n",
        "            nn.Linear(n_skills, 128),\n",
        "            nn.ReLU(),\n",
        "            nn.Linear(128, n_items),\n",
        "            nn.Softmax(dim=-1)\n",
        "        )\n",
        "        self.optimizer = optim.Adam(self.policy.parameters(), lr=lr)\n",
        "\n",
        "    def select_action(self, state, asked_items):\n",
        "        state = torch.tensor(state, dtype=torch.float32).unsqueeze(0)\n",
        "        probs = self.policy(state)\n",
        "        probs = probs.detach().numpy().flatten()\n",
        "\n",
        "        # mask item yang sudah ditanyakan\n",
        "        probs[list(asked_items)] = 0\n",
        "        if probs.sum() == 0:\n",
        "            probs = np.ones(self.n_items) / self.n_items\n",
        "        else:\n",
        "            probs /= probs.sum()\n",
        "\n",
        "        action = np.random.choice(self.n_items, p=probs)\n",
        "        return action\n",
        "\n",
        "    def update_policy(self, rewards, log_probs):\n",
        "        discounted = []\n",
        "        R = 0\n",
        "        for r in rewards[::-1]:\n",
        "            R = r + self.gamma * R\n",
        "            discounted.insert(0, R)\n",
        "        discounted = torch.tensor(discounted, dtype=torch.float32)\n",
        "\n",
        "        loss_terms = []\n",
        "        for log_p, R in zip(log_probs, discounted):\n",
        "            loss_terms.append(-log_p * R)\n",
        "        loss = torch.stack(loss_terms).sum()\n",
        "\n",
        "        self.optimizer.zero_grad()\n",
        "        loss.backward()\n",
        "        self.optimizer.step()\n",
        "        return loss.item()"
      ],
      "metadata": {
        "id": "L5m4qzVUSlNm"
      },
      "execution_count": null,
      "outputs": []
    },
    {
      "cell_type": "code",
      "source": [
        "from sklearn.metrics import roc_auc_score\n",
        "\n",
        "def simulate_exam(env, agent, episode_len=10, epochs=30, episodes_per_epoch=200, test_mode=False):\n",
        "    for epoch in range(1, epochs+1):\n",
        "        total_reward, total_correct, total_loss, total_q = 0, 0, 0, 0\n",
        "        all_preds, all_labels = [], []\n",
        "\n",
        "        for _ in range(episodes_per_epoch):\n",
        "            state = env.reset()\n",
        "            log_probs, rewards, corrects = [], [], []\n",
        "\n",
        "            for t in range(episode_len):\n",
        "                action = agent.select_action(state, env.asked_items)\n",
        "                with torch.no_grad():\n",
        "                    pred = model_gddina.dina_net(\n",
        "                        torch.tensor([0]),  # dummy student\n",
        "                        torch.tensor([action]),\n",
        "                        torch.tensor([env.Q[action]], dtype=torch.float32)\n",
        "                    ).item()\n",
        "                correct = np.random.binomial(1, pred)\n",
        "\n",
        "                # log utk AUC\n",
        "                all_preds.append(pred)\n",
        "                all_labels.append(correct)\n",
        "\n",
        "                reward = 1 if correct else 0\n",
        "                corrects.append(correct)\n",
        "\n",
        "                state_t = torch.tensor(state, dtype=torch.float32).unsqueeze(0)\n",
        "                probs = agent.policy(state_t)\n",
        "                dist = torch.distributions.Categorical(probs)\n",
        "                log_prob = dist.log_prob(torch.tensor(action))\n",
        "\n",
        "                log_probs.append(log_prob)\n",
        "                rewards.append(reward)\n",
        "\n",
        "                state = env.step(action, correct)\n",
        "\n",
        "            # update policy (skip kalau test_mode)\n",
        "            loss = 0\n",
        "            if not test_mode:\n",
        "                loss = agent.update_policy(rewards, log_probs)\n",
        "\n",
        "            total_reward += sum(rewards)\n",
        "            total_correct += sum(corrects)\n",
        "            total_loss += loss\n",
        "            total_q += episode_len\n",
        "\n",
        "        avg_reward = total_reward / episodes_per_epoch\n",
        "        acc = total_correct / total_q\n",
        "        avg_loss = total_loss / episodes_per_epoch\n",
        "        try:\n",
        "            auc = roc_auc_score(all_labels, all_preds)\n",
        "        except:\n",
        "            auc = 0.5  # fallback kalau semua label sama\n",
        "\n",
        "        if not test_mode:\n",
        "            print(f\"Epoch {epoch:03d} | Reward {avg_reward:.3f} | Acc {acc:.3f} | AUC {auc:.3f} | Loss {avg_loss:.3f}\")\n",
        "        else:\n",
        "            print(f\"[TEST {episode_len}] Acc {acc:.3f} | AUC {auc:.3f} | Reward {avg_reward:.2f}\")"
      ],
      "metadata": {
        "id": "a0b557Mk72yT"
      },
      "execution_count": null,
      "outputs": []
    },
    {
      "cell_type": "code",
      "source": [
        "# inisialisasi env & agent\n",
        "env = GDDINAEnv(model_gddina, Q_matrix, n_skills=n_skills)\n",
        "agent = REINFORCEAgent(n_skills=n_skills, n_items=Q_matrix.shape[0])\n",
        "\n",
        "# Simulasi untuk 10 soal\n",
        "print(\"===== Policy Gradient (REINFORCE) – 10 soal =====\")\n",
        "simulate_exam(env, agent, episode_len=10, epochs=30, episodes_per_epoch=100)\n",
        "policy10 = agent  # simpan policy khusus 10 soal\n",
        "\n",
        "# Simulasi untuk 15 soal\n",
        "print(\"\\n===== Policy Gradient (REINFORCE) – 15 soal =====\")\n",
        "simulate_exam(env, agent, episode_len=15, epochs=30, episodes_per_epoch=100)\n",
        "policy15 = agent  # simpan policy khusus 15 soal\n",
        "\n",
        "# evaluasi akhir (tanpa update policy)\n",
        "print(\"\\n===== FINAL TEST =====\")\n",
        "simulate_exam(env, agent, episode_len=10, epochs=1, episodes_per_epoch=200, test_mode=True)\n",
        "simulate_exam(env, agent, episode_len=15, epochs=1, episodes_per_epoch=200, test_mode=True)"
      ],
      "metadata": {
        "colab": {
          "base_uri": "https://localhost:8080/"
        },
        "id": "c-w2vqthrqBe",
        "outputId": "635ea228-6502-48c5-e7f6-a0c86626e34d"
      },
      "execution_count": null,
      "outputs": [
        {
          "output_type": "stream",
          "name": "stdout",
          "text": [
            "===== Policy Gradient (REINFORCE) – 10 soal =====\n",
            "Epoch 001 | Reward 6.270 | Acc 0.627 | AUC 0.905 | Loss 310.827\n",
            "Epoch 002 | Reward 6.590 | Acc 0.659 | AUC 0.922 | Loss 229.831\n",
            "Epoch 003 | Reward 6.890 | Acc 0.689 | AUC 0.921 | Loss 216.269\n",
            "Epoch 004 | Reward 6.710 | Acc 0.671 | AUC 0.910 | Loss 241.591\n",
            "Epoch 005 | Reward 7.580 | Acc 0.758 | AUC 0.926 | Loss 208.616\n",
            "Epoch 006 | Reward 7.370 | Acc 0.737 | AUC 0.922 | Loss 221.355\n",
            "Epoch 007 | Reward 7.840 | Acc 0.784 | AUC 0.930 | Loss 201.231\n",
            "Epoch 008 | Reward 8.220 | Acc 0.822 | AUC 0.930 | Loss 187.897\n",
            "Epoch 009 | Reward 8.000 | Acc 0.800 | AUC 0.935 | Loss 173.992\n",
            "Epoch 010 | Reward 7.840 | Acc 0.784 | AUC 0.962 | Loss 174.496\n",
            "Epoch 011 | Reward 8.060 | Acc 0.806 | AUC 0.938 | Loss 186.025\n",
            "Epoch 012 | Reward 8.220 | Acc 0.822 | AUC 0.935 | Loss 179.982\n",
            "Epoch 013 | Reward 8.210 | Acc 0.821 | AUC 0.919 | Loss 184.854\n",
            "Epoch 014 | Reward 8.350 | Acc 0.835 | AUC 0.921 | Loss 185.962\n",
            "Epoch 015 | Reward 8.530 | Acc 0.853 | AUC 0.915 | Loss 176.175\n",
            "Epoch 016 | Reward 8.850 | Acc 0.885 | AUC 0.911 | Loss 155.358\n",
            "Epoch 017 | Reward 8.850 | Acc 0.885 | AUC 0.887 | Loss 151.442\n",
            "Epoch 018 | Reward 8.910 | Acc 0.891 | AUC 0.924 | Loss 150.735\n",
            "Epoch 019 | Reward 8.990 | Acc 0.899 | AUC 0.933 | Loss 160.235\n",
            "Epoch 020 | Reward 8.950 | Acc 0.895 | AUC 0.922 | Loss 155.590\n",
            "Epoch 021 | Reward 9.010 | Acc 0.901 | AUC 0.923 | Loss 165.523\n",
            "Epoch 022 | Reward 8.880 | Acc 0.888 | AUC 0.888 | Loss 162.305\n",
            "Epoch 023 | Reward 8.800 | Acc 0.880 | AUC 0.901 | Loss 159.081\n",
            "Epoch 024 | Reward 8.950 | Acc 0.895 | AUC 0.915 | Loss 160.845\n",
            "Epoch 025 | Reward 8.870 | Acc 0.887 | AUC 0.921 | Loss 167.444\n",
            "Epoch 026 | Reward 8.940 | Acc 0.894 | AUC 0.899 | Loss 166.106\n",
            "Epoch 027 | Reward 9.080 | Acc 0.908 | AUC 0.917 | Loss 162.600\n",
            "Epoch 028 | Reward 9.040 | Acc 0.904 | AUC 0.920 | Loss 171.954\n",
            "Epoch 029 | Reward 8.890 | Acc 0.889 | AUC 0.906 | Loss 178.289\n",
            "Epoch 030 | Reward 9.000 | Acc 0.900 | AUC 0.931 | Loss 182.675\n",
            "\n",
            "===== Policy Gradient (REINFORCE) – 15 soal =====\n",
            "Epoch 001 | Reward 13.520 | Acc 0.901 | AUC 0.895 | Loss 382.109\n",
            "Epoch 002 | Reward 13.680 | Acc 0.912 | AUC 0.919 | Loss 349.716\n",
            "Epoch 003 | Reward 13.640 | Acc 0.909 | AUC 0.913 | Loss 370.486\n",
            "Epoch 004 | Reward 13.550 | Acc 0.903 | AUC 0.889 | Loss 378.625\n",
            "Epoch 005 | Reward 13.770 | Acc 0.918 | AUC 0.927 | Loss 355.918\n",
            "Epoch 006 | Reward 13.450 | Acc 0.897 | AUC 0.918 | Loss 348.340\n",
            "Epoch 007 | Reward 13.740 | Acc 0.916 | AUC 0.916 | Loss 317.294\n",
            "Epoch 008 | Reward 12.970 | Acc 0.865 | AUC 0.920 | Loss 383.838\n",
            "Epoch 009 | Reward 13.150 | Acc 0.877 | AUC 0.903 | Loss 381.321\n",
            "Epoch 010 | Reward 13.270 | Acc 0.885 | AUC 0.922 | Loss 377.982\n",
            "Epoch 011 | Reward 12.970 | Acc 0.865 | AUC 0.929 | Loss 385.740\n",
            "Epoch 012 | Reward 13.390 | Acc 0.893 | AUC 0.905 | Loss 362.089\n",
            "Epoch 013 | Reward 13.510 | Acc 0.901 | AUC 0.909 | Loss 347.872\n",
            "Epoch 014 | Reward 13.710 | Acc 0.914 | AUC 0.896 | Loss 347.416\n",
            "Epoch 015 | Reward 13.580 | Acc 0.905 | AUC 0.905 | Loss 351.799\n",
            "Epoch 016 | Reward 13.860 | Acc 0.924 | AUC 0.876 | Loss 346.901\n",
            "Epoch 017 | Reward 13.810 | Acc 0.921 | AUC 0.924 | Loss 367.816\n",
            "Epoch 018 | Reward 13.450 | Acc 0.897 | AUC 0.899 | Loss 358.541\n",
            "Epoch 019 | Reward 13.690 | Acc 0.913 | AUC 0.906 | Loss 361.580\n",
            "Epoch 020 | Reward 13.840 | Acc 0.923 | AUC 0.884 | Loss 357.064\n",
            "Epoch 021 | Reward 13.700 | Acc 0.913 | AUC 0.898 | Loss 352.219\n",
            "Epoch 022 | Reward 13.740 | Acc 0.916 | AUC 0.895 | Loss 324.097\n",
            "Epoch 023 | Reward 13.910 | Acc 0.927 | AUC 0.870 | Loss 317.742\n",
            "Epoch 024 | Reward 14.100 | Acc 0.940 | AUC 0.900 | Loss 294.674\n",
            "Epoch 025 | Reward 13.760 | Acc 0.917 | AUC 0.886 | Loss 321.416\n",
            "Epoch 026 | Reward 13.740 | Acc 0.916 | AUC 0.904 | Loss 351.982\n",
            "Epoch 027 | Reward 13.600 | Acc 0.907 | AUC 0.896 | Loss 368.825\n",
            "Epoch 028 | Reward 13.470 | Acc 0.898 | AUC 0.903 | Loss 380.762\n",
            "Epoch 029 | Reward 13.530 | Acc 0.902 | AUC 0.882 | Loss 391.661\n",
            "Epoch 030 | Reward 13.570 | Acc 0.905 | AUC 0.877 | Loss 394.108\n",
            "\n",
            "===== FINAL TEST =====\n",
            "[TEST 10] Acc 0.901 | AUC 0.917 | Reward 9.02\n",
            "[TEST 15] Acc 0.902 | AUC 0.923 | Reward 13.53\n"
          ]
        }
      ]
    },
    {
      "cell_type": "markdown",
      "source": [
        "# Visualization"
      ],
      "metadata": {
        "id": "a42KthGwh5aQ"
      }
    },
    {
      "cell_type": "code",
      "source": [
        "import matplotlib.pyplot as plt\n",
        "import numpy as np\n",
        "\n",
        "epochs = np.arange(1, 31)\n",
        "\n",
        "# === Data GD-DINA (10 soal) ===\n",
        "reward_10 = [6.270,6.590,6.890,6.710,7.580,7.370,7.840,8.220,8.000,7.840,\n",
        "              8.060,8.220,8.210,8.350,8.530,8.850,8.850,8.910,8.990,8.950,\n",
        "              9.010,8.880,8.800,8.950,8.870,8.940,9.080,9.040,8.890,9.000]\n",
        "\n",
        "acc_10 = [0.627,0.659,0.689,0.671,0.758,0.737,0.784,0.822,0.800,0.784,\n",
        "           0.806,0.822,0.821,0.835,0.853,0.885,0.885,0.891,0.899,0.895,\n",
        "           0.901,0.888,0.880,0.895,0.887,0.894,0.908,0.904,0.889,0.900]\n",
        "\n",
        "auc_10 = [0.905,0.922,0.921,0.910,0.926,0.922,0.930,0.930,0.935,0.962,\n",
        "           0.938,0.935,0.919,0.921,0.915,0.911,0.887,0.924,0.933,0.922,\n",
        "           0.923,0.888,0.901,0.915,0.921,0.899,0.917,0.920,0.906,0.931]\n",
        "\n",
        "loss_10 = [310.827,229.831,216.269,241.591,208.616,221.355,201.231,187.897,173.992,174.496,\n",
        "           186.025,179.982,184.854,185.962,176.175,155.358,151.442,150.735,160.235,155.590,\n",
        "           165.523,162.305,159.081,160.845,167.444,166.106,162.600,171.954,178.289,182.675]\n",
        "\n",
        "\n",
        "# === Data GD-DINA (15 soal) ===\n",
        "reward_15 = [13.520,13.680,13.640,13.550,13.770,13.450,13.740,12.970,13.150,13.270,\n",
        "              12.970,13.390,13.510,13.710,13.580,13.860,13.810,13.450,13.690,13.840,\n",
        "              13.700,13.740,13.910,14.100,13.760,13.740,13.600,13.470,13.530,13.570]\n",
        "\n",
        "acc_15 = [0.901,0.912,0.909,0.903,0.918,0.897,0.916,0.865,0.877,0.885,\n",
        "           0.865,0.893,0.901,0.914,0.905,0.924,0.921,0.897,0.913,0.923,\n",
        "           0.913,0.916,0.927,0.940,0.917,0.916,0.907,0.898,0.902,0.905]\n",
        "\n",
        "auc_15 = [0.895,0.919,0.913,0.889,0.927,0.918,0.916,0.920,0.903,0.922,\n",
        "           0.929,0.905,0.909,0.896,0.905,0.876,0.924,0.899,0.906,0.884,\n",
        "           0.898,0.895,0.870,0.900,0.886,0.904,0.896,0.903,0.882,0.877]\n",
        "\n",
        "loss_15 = [382.109,349.716,370.486,378.625,355.918,348.340,317.294,383.838,381.321,377.982,\n",
        "           385.740,362.089,347.872,347.416,351.799,346.901,367.816,358.541,361.580,357.064,\n",
        "           352.219,324.097,317.742,294.674,321.416,351.982,368.825,380.762,391.661,394.108]\n",
        "\n",
        "\n",
        "# === Plot 1: Reward per Epoch ===\n",
        "plt.figure(figsize=(9,5))\n",
        "plt.plot(epochs, reward_10, 'o-', label='Episode = 10')\n",
        "plt.plot(epochs, reward_15, 's-', label='Episode = 15')\n",
        "plt.title(\"GD-DINA (Policy Gradient POMDP)\\nAverage Reward per Epoch\")\n",
        "plt.xlabel(\"Epoch\")\n",
        "plt.ylabel(\"Average Reward\")\n",
        "plt.grid(True, alpha=0.3)\n",
        "plt.legend()\n",
        "plt.tight_layout()\n",
        "plt.show()\n",
        "\n",
        "\n",
        "# === Plot 2: Accuracy per Epoch ===\n",
        "plt.figure(figsize=(9,5))\n",
        "plt.plot(epochs, acc_10, 'o-', label='Episode = 10')\n",
        "plt.plot(epochs, acc_15, 's-', label='Episode = 15')\n",
        "plt.title(\"GD-DINA (Policy Gradient POMDP)\\nAccuracy per Epoch\")\n",
        "plt.xlabel(\"Epoch\")\n",
        "plt.ylabel(\"Accuracy\")\n",
        "plt.grid(True, alpha=0.3)\n",
        "plt.legend()\n",
        "plt.tight_layout()\n",
        "plt.show()\n",
        "\n",
        "\n",
        "# === Plot 3: AUC per Epoch ===\n",
        "plt.figure(figsize=(9,5))\n",
        "plt.plot(epochs, auc_10, 'o-', label='Episode = 10')\n",
        "plt.plot(epochs, auc_15, 's-', label='Episode = 15')\n",
        "plt.title(\"GD-DINA (Policy Gradient POMDP)\\nAUC per Epoch\")\n",
        "plt.xlabel(\"Epoch\")\n",
        "plt.ylabel(\"AUC\")\n",
        "plt.grid(True, alpha=0.3)\n",
        "plt.legend()\n",
        "plt.tight_layout()\n",
        "plt.show()\n",
        "\n",
        "\n",
        "# === Plot 4: Loss per Epoch ===\n",
        "plt.figure(figsize=(9,5))\n",
        "plt.plot(epochs, loss_10, 'o-', label='Episode = 10')\n",
        "plt.plot(epochs, loss_15, 's-', label='Episode = 15')\n",
        "plt.title(\"GD-DINA (Policy Gradient POMDP)\\nPolicy Loss per Epoch\")\n",
        "plt.xlabel(\"Epoch\")\n",
        "plt.ylabel(\"Loss\")\n",
        "plt.grid(True, alpha=0.3)\n",
        "plt.legend()\n",
        "plt.tight_layout()\n",
        "plt.show()"
      ],
      "metadata": {
        "id": "ptZvIpjax7eF",
        "colab": {
          "base_uri": "https://localhost:8080/",
          "height": 1000
        },
        "outputId": "8a181c01-3f21-42c4-8dd6-627a0be718a7"
      },
      "execution_count": 6,
      "outputs": [
        {
          "output_type": "display_data",
          "data": {
            "text/plain": [
              "<Figure size 900x500 with 1 Axes>"
            ],
            "image/png": "[encoded data removed]"
          },
          "metadata": {}
        },
        {
          "output_type": "display_data",
          "data": {
            "text/plain": [
              "<Figure size 900x500 with 1 Axes>"
            ],
            "image/png": "[encoded data removed]"
          },
          "metadata": {}
        },
        {
          "output_type": "display_data",
          "data": {
            "text/plain": [
              "<Figure size 900x500 with 1 Axes>"
            ],
            "image/png": "[encoded data removed]"
          },
          "metadata": {}
        },
        {
          "output_type": "display_data",
          "data": {
            "text/plain": [
              "<Figure size 900x500 with 1 Axes>"
            ],
            "image/png": "[encoded data removed]"
          },
          "metadata": {}
        }
      ]
    },
    {
      "cell_type": "code",
      "source": [],
      "metadata": {
        "id": "GfAsgFzHB_jn"
      },
      "execution_count": null,
      "outputs": []
    }
  ]
}